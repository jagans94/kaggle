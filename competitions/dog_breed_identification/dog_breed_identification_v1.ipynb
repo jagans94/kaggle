{
 "cells": [
  {
   "cell_type": "markdown",
   "metadata": {
    "_cell_guid": "d4c08f48-fe23-4ddb-ac46-d97f05397514",
    "_uuid": "f2156d1dd26a1243e18512002e10872c5bd7271e"
   },
   "source": [
    "# Dog Breed Identification\n",
    "\n",
    "**Overview:**\n",
    "- Summarizing 'What I've learnt'?\n",
    "- Prepare Data\n",
    "- Inspect Data\n",
    "- Building, Training and Evaluating Models\n",
    "- Submission\n",
    "- Notes and Conclusion"
   ]
  },
  {
   "cell_type": "markdown",
   "metadata": {},
   "source": [
    "### What I've learnt?\n",
    "- Concepts:\n",
    "- Code:"
   ]
  },
  {
   "cell_type": "markdown",
   "metadata": {},
   "source": [
    "**Imports:**"
   ]
  },
  {
   "cell_type": "code",
   "execution_count": 1,
   "metadata": {},
   "outputs": [
    {
     "name": "stderr",
     "output_type": "stream",
     "text": [
      "/home/jaganz1994/miniconda3/envs/kaggle/lib/python3.6/site-packages/h5py/__init__.py:36: FutureWarning: Conversion of the second argument of issubdtype from `float` to `np.floating` is deprecated. In future, it will be treated as `np.float64 == np.dtype(float).type`.\n",
      "  from ._conv import register_converters as _register_converters\n",
      "Using TensorFlow backend.\n"
     ]
    },
    {
     "data": {
      "text/plain": [
       "'2.1.4'"
      ]
     },
     "execution_count": 1,
     "metadata": {},
     "output_type": "execute_result"
    }
   ],
   "source": [
    "import keras\n",
    "keras.__version__"
   ]
  },
  {
   "cell_type": "code",
   "execution_count": 2,
   "metadata": {
    "_cell_guid": "f67b9393-8ea1-4e23-b856-2ce149cfe421",
    "_execution_state": "idle",
    "_uuid": "72334cb006d02a4bcfc2a2fe622524eba824c6f8"
   },
   "outputs": [],
   "source": [
    "import os, shutil"
   ]
  },
  {
   "cell_type": "code",
   "execution_count": 2,
   "metadata": {
    "_cell_guid": "f67b9393-8ea1-4e23-b856-2ce149cfe421",
    "_execution_state": "idle",
    "_uuid": "72334cb006d02a4bcfc2a2fe622524eba824c6f8"
   },
   "outputs": [],
   "source": [
    "import pandas as pd\n",
    "import numpy as np\n",
    "\n",
    "from keras.models import Sequential, Model, load_model\n",
    "from keras.layers import Dense, Dropout, Flatten, Input, Conv2D, MaxPool2D\n",
    "from keras.layers.normalization import BatchNormalization\n",
    "from keras.callbacks import EarlyStopping, ReduceLROnPlateau\n",
    "from keras.optimizers import RMSprop\n",
    "from keras.preprocessing import image\n",
    "from keras.preprocessing.image import ImageDataGenerator\n",
    "from keras.utils.np_utils import to_categorical\n",
    "from keras.applications import VGG16\n",
    "\n",
    "import matplotlib.pyplot as plt\n",
    "%matplotlib inline\n",
    "\n",
    "# custom imports\n",
    "from scripts import my_utils\n",
    "\n",
    "%reload_ext autoreload\n",
    "%autoreload 2"
   ]
  },
  {
   "cell_type": "markdown",
   "metadata": {},
   "source": [
    "### Preparing Data:"
   ]
  },
  {
   "cell_type": "code",
   "execution_count": 3,
   "metadata": {},
   "outputs": [],
   "source": [
    "# !ls ../../.kaggle/competitions"
   ]
  },
  {
   "cell_type": "code",
   "execution_count": 4,
   "metadata": {},
   "outputs": [],
   "source": [
    "# src_dir=\"../../.kaggle/competitions/dog-breed-identification\"\n",
    "base_dir = '../datasets/dog-breed-identification'\n",
    "# if not os.path.exists(base_dir): os.makedirs(base_dir)"
   ]
  },
  {
   "cell_type": "code",
   "execution_count": 5,
   "metadata": {},
   "outputs": [],
   "source": [
    "# my_utils.unpack_dataset(src_dir, base_dir)"
   ]
  },
  {
   "cell_type": "code",
   "execution_count": 6,
   "metadata": {},
   "outputs": [
    {
     "name": "stdout",
     "output_type": "stream",
     "text": [
      "bin  bin_1  labels.csv\tsample_submission.csv  test  train\r\n"
     ]
    }
   ],
   "source": [
    "!ls ../datasets/dog-breed-identification"
   ]
  },
  {
   "cell_type": "code",
   "execution_count": 7,
   "metadata": {},
   "outputs": [
    {
     "name": "stdout",
     "output_type": "stream",
     "text": [
      "Tests passed.\n",
      "\n",
      "This might take a while...\n",
      "Selected no. of files:  10222\n",
      "The path already exists.\n",
      "                    \n",
      "1.To overwrite. Press '1'\n",
      "                    \n",
      "2.To exit Press '2'\n",
      "\n",
      "2\n"
     ]
    }
   ],
   "source": [
    "mapping = pd.read_csv(os.path.join(base_dir,'labels.csv'))\n",
    "my_utils.bin_dataset(base_dir, 'train', mapping.values, name = 'bin', validation_split = 0.2)"
   ]
  },
  {
   "cell_type": "code",
   "execution_count": 8,
   "metadata": {},
   "outputs": [
    {
     "name": "stdout",
     "output_type": "stream",
     "text": [
      "bin  bin_1  labels.csv\tsample_submission.csv  test  train\r\n"
     ]
    }
   ],
   "source": [
    "!ls ../datasets/dog-breed-identification"
   ]
  },
  {
   "cell_type": "code",
   "execution_count": 9,
   "metadata": {},
   "outputs": [
    {
     "data": {
      "text/plain": [
       "['val', 'train_map.csv', 'train', 'val_map.csv']"
      ]
     },
     "execution_count": 9,
     "metadata": {},
     "output_type": "execute_result"
    }
   ],
   "source": [
    "os.listdir(os.path.join(base_dir, 'bin'))"
   ]
  },
  {
   "cell_type": "code",
   "execution_count": 10,
   "metadata": {},
   "outputs": [],
   "source": [
    "train_dir = os.path.join(base_dir, 'bin', 'train')\n",
    "val_dir = os.path.join(base_dir, 'bin', 'val')\n",
    "test_dir = os.path.join(base_dir, 'test')"
   ]
  },
  {
   "cell_type": "code",
   "execution_count": 3,
   "metadata": {},
   "outputs": [],
   "source": [
    "# directory to save models\n",
    "save_dir = '../saved_models/dog_breed_identification/1'\n",
    "if not os.path.isdir(save_dir): os.mkdir(save_dir)"
   ]
  },
  {
   "cell_type": "markdown",
   "metadata": {},
   "source": [
    "**Data Parameters:**"
   ]
  },
  {
   "cell_type": "code",
   "execution_count": 12,
   "metadata": {},
   "outputs": [],
   "source": [
    "img_rows, img_cols, img_chnls = 150, 150, 3\n",
    "input_shape = (img_rows,img_cols,img_chnls)\n",
    "target_size = input_shape[:-1]\n",
    "\n",
    "num_classes = np.unique(mapping.values[:,1]).shape[0]\n",
    "\n",
    "train_sample_count = 8177 \n",
    "val_sample_count = 2045\n",
    "test_sample_count = len(os.listdir(test_dir))\n",
    "batch_size = 256"
   ]
  },
  {
   "cell_type": "markdown",
   "metadata": {},
   "source": [
    "### Inspecting Data:"
   ]
  },
  {
   "cell_type": "markdown",
   "metadata": {
    "_cell_guid": "d5265777-aeb3-449d-b171-d88cad74c0a4",
    "_uuid": "5fa18b37a9acd9e098bac1d12264b0dd4310fdd3"
   },
   "source": [
    "### Building, Training and Evaluating Models:"
   ]
  },
  {
   "cell_type": "markdown",
   "metadata": {},
   "source": [
    "**1. Basic Model:** "
   ]
  },
  {
   "cell_type": "code",
   "execution_count": 13,
   "metadata": {},
   "outputs": [],
   "source": [
    "# model\n",
    "def basic_model():\n",
    "    model = Sequential()\n",
    "\n",
    "    model.add(Conv2D(32, (3, 3), activation='relu', input_shape=input_shape))\n",
    "    model.add(MaxPool2D((2, 2)))\n",
    "    model.add(Conv2D(64, (3, 3), activation='relu'))\n",
    "    model.add(MaxPool2D((2, 2)))\n",
    "    model.add(Conv2D(128, (3, 3), activation='relu'))\n",
    "    model.add(MaxPool2D((2, 2)))\n",
    "    model.add(Conv2D(128, (3, 3), activation='relu'))\n",
    "    model.add(MaxPool2D((2, 2)))\n",
    "\n",
    "    model.add(Flatten())\n",
    "    model.add(Dense(256, activation='relu'))\n",
    "    model.add(Dense(num_classes, activation='softmax'))\n",
    "\n",
    "    model.summary()\n",
    "    \n",
    "    return model"
   ]
  },
  {
   "cell_type": "code",
   "execution_count": 14,
   "metadata": {},
   "outputs": [
    {
     "name": "stdout",
     "output_type": "stream",
     "text": [
      "_________________________________________________________________\n",
      "Layer (type)                 Output Shape              Param #   \n",
      "=================================================================\n",
      "conv2d_1 (Conv2D)            (None, 148, 148, 32)      896       \n",
      "_________________________________________________________________\n",
      "max_pooling2d_1 (MaxPooling2 (None, 74, 74, 32)        0         \n",
      "_________________________________________________________________\n",
      "conv2d_2 (Conv2D)            (None, 72, 72, 64)        18496     \n",
      "_________________________________________________________________\n",
      "max_pooling2d_2 (MaxPooling2 (None, 36, 36, 64)        0         \n",
      "_________________________________________________________________\n",
      "conv2d_3 (Conv2D)            (None, 34, 34, 128)       73856     \n",
      "_________________________________________________________________\n",
      "max_pooling2d_3 (MaxPooling2 (None, 17, 17, 128)       0         \n",
      "_________________________________________________________________\n",
      "conv2d_4 (Conv2D)            (None, 15, 15, 128)       147584    \n",
      "_________________________________________________________________\n",
      "max_pooling2d_4 (MaxPooling2 (None, 7, 7, 128)         0         \n",
      "_________________________________________________________________\n",
      "flatten_1 (Flatten)          (None, 6272)              0         \n",
      "_________________________________________________________________\n",
      "dense_1 (Dense)              (None, 256)               1605888   \n",
      "_________________________________________________________________\n",
      "dense_2 (Dense)              (None, 120)               30840     \n",
      "=================================================================\n",
      "Total params: 1,877,560\n",
      "Trainable params: 1,877,560\n",
      "Non-trainable params: 0\n",
      "_________________________________________________________________\n"
     ]
    }
   ],
   "source": [
    "model = basic_model()"
   ]
  },
  {
   "cell_type": "code",
   "execution_count": 15,
   "metadata": {},
   "outputs": [],
   "source": [
    "# compile model\n",
    "model.compile(optimizer = RMSprop(lr = 1e-3), \n",
    "              loss = 'categorical_crossentropy',\n",
    "              metrics = ['acc'])"
   ]
  },
  {
   "cell_type": "code",
   "execution_count": 16,
   "metadata": {},
   "outputs": [
    {
     "name": "stdout",
     "output_type": "stream",
     "text": [
      "Found 8177 images belonging to 120 classes.\n",
      "Found 2045 images belonging to 120 classes.\n"
     ]
    }
   ],
   "source": [
    "# data generators\n",
    "train_generator = my_utils.data_generator(train_dir, target_size, batch_size)\n",
    "val_generator = my_utils.data_generator(val_dir, target_size, batch_size)"
   ]
  },
  {
   "cell_type": "code",
   "execution_count": 17,
   "metadata": {},
   "outputs": [],
   "source": [
    "# fitting parameters\n",
    "epochs = 100\n",
    "callbacks = [EarlyStopping(monitor='val_loss', min_delta=1e-4, patience=10, verbose=1, mode='auto')]"
   ]
  },
  {
   "cell_type": "code",
   "execution_count": 18,
   "metadata": {},
   "outputs": [
    {
     "name": "stdout",
     "output_type": "stream",
     "text": [
      "Epoch 1/100\n",
      "31/31 [==============================] - 33s 1s/step - loss: 4.8925 - acc: 0.0100 - val_loss: 4.7731 - val_acc: 0.0112\n",
      "Epoch 2/100\n",
      "31/31 [==============================] - 27s 879ms/step - loss: 4.7446 - acc: 0.0176 - val_loss: 5.1887 - val_acc: 0.0095\n",
      "Epoch 3/100\n",
      "31/31 [==============================] - 27s 884ms/step - loss: 4.5846 - acc: 0.0323 - val_loss: 4.4815 - val_acc: 0.0442\n",
      "Epoch 4/100\n",
      "31/31 [==============================] - 28s 916ms/step - loss: 4.3692 - acc: 0.0535 - val_loss: 4.4121 - val_acc: 0.0453\n",
      "Epoch 5/100\n",
      "31/31 [==============================] - 27s 868ms/step - loss: 4.2207 - acc: 0.0760 - val_loss: 4.3918 - val_acc: 0.0587\n",
      "Epoch 6/100\n",
      "31/31 [==============================] - 27s 865ms/step - loss: 3.9917 - acc: 0.1121 - val_loss: 4.4379 - val_acc: 0.0598\n",
      "Epoch 7/100\n",
      "31/31 [==============================] - 29s 925ms/step - loss: 3.7124 - acc: 0.1554 - val_loss: 4.4810 - val_acc: 0.0783\n",
      "Epoch 8/100\n",
      "31/31 [==============================] - 23s 742ms/step - loss: 3.3895 - acc: 0.2122 - val_loss: 4.5209 - val_acc: 0.0643\n",
      "Epoch 9/100\n",
      "31/31 [==============================] - 25s 801ms/step - loss: 2.9642 - acc: 0.2960 - val_loss: 5.2198 - val_acc: 0.0586\n",
      "Epoch 10/100\n",
      "31/31 [==============================] - 28s 912ms/step - loss: 2.3886 - acc: 0.4189 - val_loss: 5.3593 - val_acc: 0.0648\n",
      "Epoch 11/100\n",
      "31/31 [==============================] - 27s 887ms/step - loss: 1.8892 - acc: 0.5257 - val_loss: 6.1380 - val_acc: 0.0559\n",
      "Epoch 12/100\n",
      "31/31 [==============================] - 28s 895ms/step - loss: 1.3044 - acc: 0.6622 - val_loss: 6.7363 - val_acc: 0.0598\n",
      "Epoch 13/100\n",
      "31/31 [==============================] - 29s 925ms/step - loss: 0.8904 - acc: 0.7661 - val_loss: 7.3749 - val_acc: 0.0688\n",
      "Epoch 14/100\n",
      "31/31 [==============================] - 27s 874ms/step - loss: 0.6200 - acc: 0.8457 - val_loss: 7.6405 - val_acc: 0.0632\n",
      "Epoch 15/100\n",
      "31/31 [==============================] - 29s 921ms/step - loss: 0.3628 - acc: 0.9103 - val_loss: 8.4502 - val_acc: 0.0570\n",
      "Epoch 00015: early stopping\n"
     ]
    }
   ],
   "source": [
    "# training\n",
    "history = model.fit_generator(\n",
    "                train_generator,\n",
    "                steps_per_epoch = train_sample_count // batch_size,\n",
    "                epochs = epochs,\n",
    "                callbacks = callbacks,\n",
    "                validation_data = val_generator,\n",
    "                validation_steps = val_sample_count // batch_size,\n",
    "                workers=16,\n",
    "                use_multiprocessing=True)"
   ]
  },
  {
   "cell_type": "code",
   "execution_count": 19,
   "metadata": {},
   "outputs": [],
   "source": [
    "# save model\n",
    "model_name = 'dbi_basic_1.h5'\n",
    "model.save(os.path.join(save_dir, model_name))"
   ]
  },
  {
   "cell_type": "code",
   "execution_count": 20,
   "metadata": {},
   "outputs": [
    {
     "data": {
      "image/png": "[encoded data removed]",
      "text/plain": [
       "<Figure size 432x288 with 1 Axes>"
      ]
     },
     "metadata": {},
     "output_type": "display_data"
    },
    {
     "data": {
      "image/png": "[encoded data removed]",
      "text/plain": [
       "<Figure size 432x288 with 1 Axes>"
      ]
     },
     "metadata": {},
     "output_type": "display_data"
    }
   ],
   "source": [
    "# plot model history\n",
    "my_utils.plot_history(history)"
   ]
  },
  {
   "cell_type": "code",
   "execution_count": 25,
   "metadata": {},
   "outputs": [],
   "source": [
    "# # evaluating on test data\n",
    "# test_generator = my_utils.data_generator(test_dir, target_size, batch_size)\n",
    "# predictions = model.evaluate_generator(test_generator, \n",
    "#                                       steps = test_sample_count // batch_size, \n",
    "#                                       max_queue_size=10, \n",
    "#                                       workers=1, \n",
    "#                                       use_multiprocessing=False, \n",
    "#                                       verbose=0)"
   ]
  },
  {
   "cell_type": "markdown",
   "metadata": {},
   "source": [
    "**2. Basic Model with Data Augmentation:** "
   ]
  },
  {
   "cell_type": "code",
   "execution_count": 26,
   "metadata": {},
   "outputs": [
    {
     "name": "stdout",
     "output_type": "stream",
     "text": [
      "_________________________________________________________________\n",
      "Layer (type)                 Output Shape              Param #   \n",
      "=================================================================\n",
      "conv2d_6 (Conv2D)            (None, 148, 148, 32)      896       \n",
      "_________________________________________________________________\n",
      "max_pooling2d_5 (MaxPooling2 (None, 74, 74, 32)        0         \n",
      "_________________________________________________________________\n",
      "conv2d_7 (Conv2D)            (None, 72, 72, 64)        18496     \n",
      "_________________________________________________________________\n",
      "max_pooling2d_6 (MaxPooling2 (None, 36, 36, 64)        0         \n",
      "_________________________________________________________________\n",
      "conv2d_8 (Conv2D)            (None, 34, 34, 128)       73856     \n",
      "_________________________________________________________________\n",
      "max_pooling2d_7 (MaxPooling2 (None, 17, 17, 128)       0         \n",
      "_________________________________________________________________\n",
      "conv2d_9 (Conv2D)            (None, 15, 15, 128)       147584    \n",
      "_________________________________________________________________\n",
      "max_pooling2d_8 (MaxPooling2 (None, 7, 7, 128)         0         \n",
      "_________________________________________________________________\n",
      "flatten_2 (Flatten)          (None, 6272)              0         \n",
      "_________________________________________________________________\n",
      "dropout_1 (Dropout)          (None, 6272)              0         \n",
      "_________________________________________________________________\n",
      "dense_3 (Dense)              (None, 256)               1605888   \n",
      "_________________________________________________________________\n",
      "dense_4 (Dense)              (None, 120)               30840     \n",
      "=================================================================\n",
      "Total params: 1,877,560\n",
      "Trainable params: 1,877,560\n",
      "Non-trainable params: 0\n",
      "_________________________________________________________________\n"
     ]
    }
   ],
   "source": [
    "# model\n",
    "model = Sequential()\n",
    "\n",
    "model.add(Conv2D(32, (3, 3), activation='relu', input_shape=input_shape))\n",
    "model.add(MaxPool2D((2, 2)))\n",
    "model.add(Conv2D(64, (3, 3), activation='relu'))\n",
    "model.add(MaxPool2D((2, 2)))\n",
    "model.add(Conv2D(128, (3, 3), activation='relu'))\n",
    "model.add(MaxPool2D((2, 2)))\n",
    "model.add(Conv2D(128, (3, 3), activation='relu'))\n",
    "model.add(MaxPool2D((2, 2)))\n",
    "\n",
    "model.add(Flatten())\n",
    "model.add(Dropout(0.5))\n",
    "model.add(Dense(256, activation='relu'))\n",
    "model.add(Dense(num_classes, activation='softmax'))\n",
    "\n",
    "model.summary()"
   ]
  },
  {
   "cell_type": "code",
   "execution_count": 27,
   "metadata": {},
   "outputs": [],
   "source": [
    "# compile model\n",
    "model.compile(optimizer = RMSprop(lr = 1e-3), \n",
    "              loss = 'categorical_crossentropy',\n",
    "              metrics = ['acc'])"
   ]
  },
  {
   "cell_type": "code",
   "execution_count": 28,
   "metadata": {},
   "outputs": [
    {
     "name": "stdout",
     "output_type": "stream",
     "text": [
      "Found 8177 images belonging to 120 classes.\n",
      "Found 2045 images belonging to 120 classes.\n"
     ]
    }
   ],
   "source": [
    "# data generators\n",
    "train_generator = my_utils.data_generator(train_dir, target_size, batch_size, augment = True)\n",
    "val_generator = my_utils.data_generator(val_dir, target_size, batch_size)"
   ]
  },
  {
   "cell_type": "code",
   "execution_count": 29,
   "metadata": {},
   "outputs": [],
   "source": [
    "# fitting parameters\n",
    "epochs = 150\n",
    "callbacks = [EarlyStopping(monitor='val_loss', min_delta=1e-4, patience=10, verbose=1, mode='auto')]"
   ]
  },
  {
   "cell_type": "code",
   "execution_count": 30,
   "metadata": {},
   "outputs": [
    {
     "name": "stdout",
     "output_type": "stream",
     "text": [
      "Epoch 1/150\n",
      "31/31 [==============================] - 45s 1s/step - loss: 4.8022 - acc: 0.0093 - val_loss: 4.7722 - val_acc: 0.0106\n",
      "Epoch 2/150\n",
      "Epoch 1/150\n",
      "30/31 [============================>.] - ETA: 1s - loss: 4.7611 - acc: 0.0141Epoch 1/150\n",
      "31/31 [==============================] - 45s 1s/step - loss: 4.7604 - acc: 0.0139 - val_loss: 4.7161 - val_acc: 0.0190\n",
      "Epoch 3/150\n",
      "31/31 [==============================] - 45s 1s/step - loss: 4.7117 - acc: 0.0182 - val_loss: 4.6380 - val_acc: 0.0324\n",
      "Epoch 4/150\n",
      "31/31 [==============================] - 46s 1s/step - loss: 4.6375 - acc: 0.0271 - val_loss: 4.4949 - val_acc: 0.0408\n",
      "Epoch 5/150\n",
      "31/31 [==============================] - 45s 1s/step - loss: 4.5562 - acc: 0.0300 - val_loss: 4.6019 - val_acc: 0.0302\n",
      "Epoch 6/150\n",
      "31/31 [==============================] - 45s 1s/step - loss: 4.5083 - acc: 0.0336 - val_loss: 4.6306 - val_acc: 0.0296\n",
      "Epoch 7/150\n",
      "31/31 [==============================] - 45s 1s/step - loss: 4.4761 - acc: 0.0387 - val_loss: 4.3181 - val_acc: 0.0620\n",
      "Epoch 8/150\n",
      "31/31 [==============================] - 39s 1s/step - loss: 4.3974 - acc: 0.0442 - val_loss: 4.3445 - val_acc: 0.0464\n",
      "Epoch 9/150\n",
      "31/31 [==============================] - 43s 1s/step - loss: 4.3624 - acc: 0.0463 - val_loss: 4.3457 - val_acc: 0.0614\n",
      "Epoch 10/150\n",
      "30/31 [============================>.] - ETA: 1s - loss: 4.3479 - acc: 0.0546Epoch 9/150\n",
      "31/31 [==============================] - 51s 2s/step - loss: 4.3468 - acc: 0.0544 - val_loss: 4.2449 - val_acc: 0.0637\n",
      "Epoch 11/150\n",
      "31/31 [==============================] - 48s 2s/step - loss: 4.2900 - acc: 0.0556 - val_loss: 4.2334 - val_acc: 0.0648\n",
      "Epoch 12/150\n",
      "31/31 [==============================] - 47s 2s/step - loss: 4.2700 - acc: 0.0655 - val_loss: 4.1163 - val_acc: 0.0777\n",
      "Epoch 13/150\n",
      "31/31 [==============================] - 47s 2s/step - loss: 4.2458 - acc: 0.0619 - val_loss: 4.3290 - val_acc: 0.0514\n",
      "Epoch 14/150\n",
      "31/31 [==============================] - 46s 1s/step - loss: 4.1708 - acc: 0.0757 - val_loss: 4.2194 - val_acc: 0.0760\n",
      "Epoch 15/150\n",
      "31/31 [==============================] - 44s 1s/step - loss: 4.1706 - acc: 0.0725 - val_loss: 4.1183 - val_acc: 0.0783\n",
      "Epoch 16/150\n",
      "31/31 [==============================] - 38s 1s/step - loss: 4.1261 - acc: 0.0861 - val_loss: 4.1021 - val_acc: 0.0816\n",
      "Epoch 17/150\n",
      "31/31 [==============================] - 43s 1s/step - loss: 4.0938 - acc: 0.0848 - val_loss: 4.0749 - val_acc: 0.0848\n",
      "Epoch 18/150\n",
      "31/31 [==============================] - 48s 2s/step - loss: 4.0505 - acc: 0.0946 - val_loss: 3.9969 - val_acc: 0.0933\n",
      "Epoch 19/150\n",
      "31/31 [==============================] - 44s 1s/step - loss: 4.0544 - acc: 0.0876 - val_loss: 3.9909 - val_acc: 0.0928\n",
      "Epoch 20/150\n",
      "31/31 [==============================] - 45s 1s/step - loss: 4.0165 - acc: 0.0990 - val_loss: 4.0817 - val_acc: 0.0883\n",
      "Epoch 21/150\n",
      "31/31 [==============================] - 44s 1s/step - loss: 3.9714 - acc: 0.0926 - val_loss: 3.9900 - val_acc: 0.0989\n",
      "Epoch 22/150\n",
      "31/31 [==============================] - 43s 1s/step - loss: 3.9175 - acc: 0.1073 - val_loss: 4.0923 - val_acc: 0.0850\n",
      "Epoch 23/150\n",
      "31/31 [==============================] - 44s 1s/step - loss: 3.9108 - acc: 0.1079 - val_loss: 3.9903 - val_acc: 0.0989\n",
      "Epoch 24/150\n",
      "31/31 [==============================] - 36s 1s/step - loss: 3.8716 - acc: 0.1125 - val_loss: 3.9444 - val_acc: 0.0973\n",
      "Epoch 25/150\n",
      "31/31 [==============================] - 44s 1s/step - loss: 3.8256 - acc: 0.1161 - val_loss: 3.9332 - val_acc: 0.0999\n",
      "Epoch 26/150\n",
      "31/31 [==============================] - 47s 2s/step - loss: 3.8270 - acc: 0.1237 - val_loss: 3.8748 - val_acc: 0.1213\n",
      "Epoch 27/150\n",
      "31/31 [==============================] - 45s 1s/step - loss: 3.8055 - acc: 0.1242 - val_loss: 3.9424 - val_acc: 0.1096\n",
      "Epoch 28/150\n",
      "31/31 [==============================] - 46s 1s/step - loss: 3.7724 - acc: 0.1301 - val_loss: 3.8542 - val_acc: 0.1118\n",
      "Epoch 29/150\n",
      "31/31 [==============================] - 44s 1s/step - loss: 3.7072 - acc: 0.1400 - val_loss: 3.9316 - val_acc: 0.1107\n",
      "Epoch 30/150\n",
      "31/31 [==============================] - 44s 1s/step - loss: 3.7311 - acc: 0.1339 - val_loss: 3.9363 - val_acc: 0.1112\n",
      "Epoch 31/150\n",
      "31/31 [==============================] - 44s 1s/step - loss: 3.6778 - acc: 0.1463 - val_loss: 3.8359 - val_acc: 0.1146\n",
      "Epoch 32/150\n",
      "31/31 [==============================] - 27s 886ms/step - loss: 3.6800 - acc: 0.1429 - val_loss: 3.8594 - val_acc: 0.1280\n",
      "Epoch 33/150\n",
      "31/31 [==============================] - 43s 1s/step - loss: 3.6119 - acc: 0.1517 - val_loss: 3.9008 - val_acc: 0.1166\n",
      "Epoch 34/150\n",
      "31/31 [==============================] - 45s 1s/step - loss: 3.6071 - acc: 0.1577 - val_loss: 3.9143 - val_acc: 0.1084\n",
      "Epoch 35/150\n",
      "31/31 [==============================] - 45s 1s/step - loss: 3.5870 - acc: 0.1585 - val_loss: 3.9947 - val_acc: 0.1056\n",
      "Epoch 36/150\n",
      "31/31 [==============================] - 45s 1s/step - loss: 3.5558 - acc: 0.1624 - val_loss: 3.8774 - val_acc: 0.1258\n",
      "Epoch 37/150\n",
      "31/31 [==============================] - 45s 1s/step - loss: 3.5281 - acc: 0.1706 - val_loss: 3.8328 - val_acc: 0.1291\n",
      "Epoch 38/150\n",
      "31/31 [==============================] - 45s 1s/step - loss: 3.4880 - acc: 0.1728 - val_loss: 3.9837 - val_acc: 0.1179\n",
      "Epoch 39/150\n",
      "31/31 [==============================] - 45s 1s/step - loss: 3.5050 - acc: 0.1781 - val_loss: 3.9973 - val_acc: 0.1124\n",
      "Epoch 40/150\n",
      "31/31 [==============================] - 40s 1s/step - loss: 3.4200 - acc: 0.1775 - val_loss: 4.0146 - val_acc: 0.1146\n",
      "Epoch 41/150\n",
      "31/31 [==============================] - 41s 1s/step - loss: 3.4620 - acc: 0.1764 - val_loss: 3.8264 - val_acc: 0.1250\n",
      "Epoch 42/150\n",
      "31/31 [==============================] - 49s 2s/step - loss: 3.4119 - acc: 0.1840 - val_loss: 3.7835 - val_acc: 0.1381\n",
      "Epoch 43/150\n",
      "31/31 [==============================] - 48s 2s/step - loss: 3.3693 - acc: 0.1941 - val_loss: 4.0564 - val_acc: 0.1179\n",
      "Epoch 44/150\n",
      "31/31 [==============================] - 48s 2s/step - loss: 3.3855 - acc: 0.1925 - val_loss: 3.9303 - val_acc: 0.1247\n",
      "Epoch 45/150\n",
      "31/31 [==============================] - 47s 2s/step - loss: 3.3361 - acc: 0.1960 - val_loss: 3.7274 - val_acc: 0.1526\n",
      "Epoch 46/150\n",
      "31/31 [==============================] - 46s 1s/step - loss: 3.3014 - acc: 0.2058 - val_loss: 4.0211 - val_acc: 0.1012\n",
      "Epoch 47/150\n",
      "31/31 [==============================] - 45s 1s/step - loss: 3.2842 - acc: 0.2062 - val_loss: 3.7731 - val_acc: 0.1448\n",
      "Epoch 48/150\n",
      "31/31 [==============================] - 37s 1s/step - loss: 3.2807 - acc: 0.2083 - val_loss: 3.8374 - val_acc: 0.1358\n",
      "Epoch 49/150\n",
      "31/31 [==============================] - 42s 1s/step - loss: 3.2290 - acc: 0.2141 - val_loss: 3.7720 - val_acc: 0.1496\n",
      "Epoch 50/150\n",
      "31/31 [==============================] - 48s 2s/step - loss: 3.1846 - acc: 0.2195 - val_loss: 3.8123 - val_acc: 0.1498\n",
      "Epoch 51/150\n",
      "31/31 [==============================] - 44s 1s/step - loss: 3.2194 - acc: 0.2195 - val_loss: 4.1563 - val_acc: 0.1135\n",
      "Epoch 52/150\n",
      "31/31 [==============================] - 44s 1s/step - loss: 3.1601 - acc: 0.2276 - val_loss: 4.0824 - val_acc: 0.1230\n",
      "Epoch 53/150\n",
      "31/31 [==============================] - 44s 1s/step - loss: 3.1317 - acc: 0.2333 - val_loss: 3.9730 - val_acc: 0.1392\n",
      "Epoch 54/150\n",
      "31/31 [==============================] - 44s 1s/step - loss: 3.1412 - acc: 0.2324 - val_loss: 3.8275 - val_acc: 0.1537\n",
      "Epoch 55/150\n",
      "31/31 [==============================] - 44s 1s/step - loss: 3.0954 - acc: 0.2370 - val_loss: 4.2747 - val_acc: 0.1302\n",
      "Epoch 00055: early stopping\n"
     ]
    }
   ],
   "source": [
    "# training\n",
    "history = model.fit_generator(\n",
    "                train_generator,\n",
    "                steps_per_epoch = train_sample_count // batch_size,\n",
    "                epochs = epochs,\n",
    "                callbacks = callbacks,\n",
    "                validation_data = val_generator,\n",
    "                validation_steps = val_sample_count // batch_size,\n",
    "                workers=16,\n",
    "                use_multiprocessing=True)"
   ]
  },
  {
   "cell_type": "code",
   "execution_count": 31,
   "metadata": {},
   "outputs": [],
   "source": [
    "# save moodel\n",
    "model_name = 'dbi_basic_data_aug_2.h5'\n",
    "model.save(os.path.join(save_dir, model_name))"
   ]
  },
  {
   "cell_type": "code",
   "execution_count": 32,
   "metadata": {},
   "outputs": [
    {
     "data": {
      "image/png": "[encoded data removed]",
      "text/plain": [
       "<Figure size 432x288 with 1 Axes>"
      ]
     },
     "metadata": {},
     "output_type": "display_data"
    },
    {
     "data": {
      "image/png": "[encoded data removed]",
      "text/plain": [
       "<Figure size 432x288 with 1 Axes>"
      ]
     },
     "metadata": {},
     "output_type": "display_data"
    }
   ],
   "source": [
    "# plot model history\n",
    "my_utils.plot_history(history)"
   ]
  },
  {
   "cell_type": "code",
   "execution_count": 33,
   "metadata": {},
   "outputs": [],
   "source": [
    "# # evaluating on test data\n",
    "# test_generator = my_utils.data_generator(test_dir, target_size, batch_size)\n",
    "# predictions = model.evaluate_generator(test_generator, \n",
    "#                                       steps = test_sample_count // batch_size, \n",
    "#                                       max_queue_size=10, \n",
    "#                                       workers=1, \n",
    "#                                       use_multiprocessing=False, \n",
    "#                                       verbose=0)"
   ]
  },
  {
   "cell_type": "code",
   "execution_count": 34,
   "metadata": {},
   "outputs": [],
   "source": [
    "# predictions = np.argmax(predictions, axis=-1) #multiple categories\n",
    "\n",
    "# label_map = (train_generator.class_indices)\n",
    "# label_map = dict((v,k) for k,v in label_map.items()) #flip k,v\n",
    "# predictions = [label_map[k] for k in predictions]"
   ]
  },
  {
   "cell_type": "markdown",
   "metadata": {},
   "source": [
    "**3. Using Pre-Trained ConvNet:** "
   ]
  },
  {
   "cell_type": "code",
   "execution_count": 35,
   "metadata": {},
   "outputs": [
    {
     "name": "stdout",
     "output_type": "stream",
     "text": [
      "_________________________________________________________________\n",
      "Layer (type)                 Output Shape              Param #   \n",
      "=================================================================\n",
      "input_1 (InputLayer)         (None, 150, 150, 3)       0         \n",
      "_________________________________________________________________\n",
      "block1_conv1 (Conv2D)        (None, 150, 150, 64)      1792      \n",
      "_________________________________________________________________\n",
      "block1_conv2 (Conv2D)        (None, 150, 150, 64)      36928     \n",
      "_________________________________________________________________\n",
      "block1_pool (MaxPooling2D)   (None, 75, 75, 64)        0         \n",
      "_________________________________________________________________\n",
      "block2_conv1 (Conv2D)        (None, 75, 75, 128)       73856     \n",
      "_________________________________________________________________\n",
      "block2_conv2 (Conv2D)        (None, 75, 75, 128)       147584    \n",
      "_________________________________________________________________\n",
      "block2_pool (MaxPooling2D)   (None, 37, 37, 128)       0         \n",
      "_________________________________________________________________\n",
      "block3_conv1 (Conv2D)        (None, 37, 37, 256)       295168    \n",
      "_________________________________________________________________\n",
      "block3_conv2 (Conv2D)        (None, 37, 37, 256)       590080    \n",
      "_________________________________________________________________\n",
      "block3_conv3 (Conv2D)        (None, 37, 37, 256)       590080    \n",
      "_________________________________________________________________\n",
      "block3_pool (MaxPooling2D)   (None, 18, 18, 256)       0         \n",
      "_________________________________________________________________\n",
      "block4_conv1 (Conv2D)        (None, 18, 18, 512)       1180160   \n",
      "_________________________________________________________________\n",
      "block4_conv2 (Conv2D)        (None, 18, 18, 512)       2359808   \n",
      "_________________________________________________________________\n",
      "block4_conv3 (Conv2D)        (None, 18, 18, 512)       2359808   \n",
      "_________________________________________________________________\n",
      "block4_pool (MaxPooling2D)   (None, 9, 9, 512)         0         \n",
      "_________________________________________________________________\n",
      "block5_conv1 (Conv2D)        (None, 9, 9, 512)         2359808   \n",
      "_________________________________________________________________\n",
      "block5_conv2 (Conv2D)        (None, 9, 9, 512)         2359808   \n",
      "_________________________________________________________________\n",
      "block5_conv3 (Conv2D)        (None, 9, 9, 512)         2359808   \n",
      "_________________________________________________________________\n",
      "block5_pool (MaxPooling2D)   (None, 4, 4, 512)         0         \n",
      "=================================================================\n",
      "Total params: 14,714,688\n",
      "Trainable params: 14,714,688\n",
      "Non-trainable params: 0\n",
      "_________________________________________________________________\n"
     ]
    }
   ],
   "source": [
    "# vgg16 convbase\n",
    "vgg16_conv_base = VGG16(weights='imagenet', include_top=False, input_shape=input_shape)\n",
    "vgg16_conv_base.summary()"
   ]
  },
  {
   "cell_type": "markdown",
   "metadata": {},
   "source": [
    "From here on there's two ways to go about this:\n",
    "- **Fast Feature Extraction:** Running the convolutional base over our dataset, recording its output to a Numpy array on disk, then using this data as input to a standalone densely-connected classifier. This solution is very fast and cheap to run, because it only requires running the convolutional base once for every input image, and the convolutional base is by far the most expensive part of the pipeline. However, for the exact same reason, this technique would not allow us to leverage data augmentation at all.\n",
    "- **Model Extension:** Extending the model we have (conv_base) by adding Dense layers on top, and running the whole thing end-to-end on the input data. This allows us to use data augmentation, because every input image is going through the convolutional base every time it is seen by the model. However, for this same reason, this technique is far more expensive than the first one."
   ]
  },
  {
   "cell_type": "markdown",
   "metadata": {},
   "source": [
    "**Fast Feature Extraction:**"
   ]
  },
  {
   "cell_type": "code",
   "execution_count": 36,
   "metadata": {},
   "outputs": [],
   "source": [
    "# input shape for dense model\n",
    "feature_shape = (vgg16_conv_base.layers[-1]).output_shape\n",
    "dm_input_shape = (np.prod(feature_shape[1:]),)"
   ]
  },
  {
   "cell_type": "code",
   "execution_count": 37,
   "metadata": {},
   "outputs": [
    {
     "name": "stdout",
     "output_type": "stream",
     "text": [
      "_________________________________________________________________\n",
      "Layer (type)                 Output Shape              Param #   \n",
      "=================================================================\n",
      "dense_5 (Dense)              (None, 256)               2097408   \n",
      "_________________________________________________________________\n",
      "dropout_2 (Dropout)          (None, 256)               0         \n",
      "_________________________________________________________________\n",
      "dense_6 (Dense)              (None, 120)               30840     \n",
      "=================================================================\n",
      "Total params: 2,128,248\n",
      "Trainable params: 2,128,248\n",
      "Non-trainable params: 0\n",
      "_________________________________________________________________\n"
     ]
    }
   ],
   "source": [
    "# dense model\n",
    "model = Sequential()\n",
    "    \n",
    "model.add(Dense(256, activation='relu', input_shape=dm_input_shape))\n",
    "model.add(Dropout(0.5))\n",
    "model.add(Dense(num_classes, activation='softmax'))\n",
    "\n",
    "model.summary()"
   ]
  },
  {
   "cell_type": "code",
   "execution_count": 38,
   "metadata": {},
   "outputs": [],
   "source": [
    "# compile modle\n",
    "model.compile(optimizer=RMSprop(lr=1e-4),\n",
    "              loss='categorical_crossentropy',\n",
    "              metrics=['acc'])"
   ]
  },
  {
   "cell_type": "code",
   "execution_count": 39,
   "metadata": {},
   "outputs": [
    {
     "name": "stdout",
     "output_type": "stream",
     "text": [
      "Found 8177 images belonging to 120 classes.\n",
      "Found 2045 images belonging to 120 classes.\n"
     ]
    }
   ],
   "source": [
    "# data generators\n",
    "train_generator = my_utils.data_generator(train_dir, target_size, batch_size)\n",
    "val_generator = my_utils.data_generator(val_dir, target_size, batch_size)"
   ]
  },
  {
   "cell_type": "code",
   "execution_count": 40,
   "metadata": {},
   "outputs": [],
   "source": [
    "# extract features\n",
    "train_features, train_labels = my_utils.extract_features(vgg16_conv_base, train_sample_count, \n",
    "                                                           train_generator, num_classes, batch_size)\n",
    "val_features, val_labels = my_utils.extract_features(vgg16_conv_base, val_sample_count, \n",
    "                                                       val_generator, num_classes, batch_size)"
   ]
  },
  {
   "cell_type": "code",
   "execution_count": 41,
   "metadata": {},
   "outputs": [],
   "source": [
    "# reshape extracted features  \n",
    "train_features = train_features.reshape(train_sample_count, -1)\n",
    "val_features = val_features.reshape(val_sample_count, -1)"
   ]
  },
  {
   "cell_type": "code",
   "execution_count": 42,
   "metadata": {},
   "outputs": [],
   "source": [
    "# fitting parameters\n",
    "epochs = 150\n",
    "callbacks = [EarlyStopping(monitor='val_loss', min_delta=1e-4, patience=10, verbose=1, mode='auto')]"
   ]
  },
  {
   "cell_type": "code",
   "execution_count": 43,
   "metadata": {},
   "outputs": [
    {
     "name": "stdout",
     "output_type": "stream",
     "text": [
      "Train on 8177 samples, validate on 2045 samples\n",
      "Epoch 1/150\n",
      "8177/8177 [==============================] - 1s 98us/step - loss: 4.8509 - acc: 0.0105 - val_loss: 4.7602 - val_acc: 0.0156\n",
      "Epoch 2/150\n",
      "8177/8177 [==============================] - 1s 74us/step - loss: 4.7310 - acc: 0.0221 - val_loss: 4.7175 - val_acc: 0.0240\n",
      "Epoch 3/150\n",
      "8177/8177 [==============================] - 1s 71us/step - loss: 4.6605 - acc: 0.0319 - val_loss: 4.6521 - val_acc: 0.0357\n",
      "Epoch 4/150\n",
      "8177/8177 [==============================] - 1s 73us/step - loss: 4.5663 - acc: 0.0455 - val_loss: 4.5906 - val_acc: 0.0504\n",
      "Epoch 5/150\n",
      "8177/8177 [==============================] - 1s 78us/step - loss: 4.4734 - acc: 0.0571 - val_loss: 4.5140 - val_acc: 0.0626\n",
      "Epoch 6/150\n",
      "8177/8177 [==============================] - 1s 78us/step - loss: 4.3577 - acc: 0.0757 - val_loss: 4.4339 - val_acc: 0.0812\n",
      "Epoch 7/150\n",
      "8177/8177 [==============================] - 1s 80us/step - loss: 4.2607 - acc: 0.0932 - val_loss: 4.3673 - val_acc: 0.0910\n",
      "Epoch 8/150\n",
      "8177/8177 [==============================] - 1s 78us/step - loss: 4.1567 - acc: 0.1006 - val_loss: 4.2941 - val_acc: 0.1012\n",
      "Epoch 9/150\n",
      "8177/8177 [==============================] - 1s 78us/step - loss: 4.0596 - acc: 0.1257 - val_loss: 4.2288 - val_acc: 0.1232\n",
      "Epoch 10/150\n",
      "8177/8177 [==============================] - 1s 78us/step - loss: 3.9653 - acc: 0.1405 - val_loss: 4.1700 - val_acc: 0.1286\n",
      "Epoch 11/150\n",
      "8177/8177 [==============================] - 1s 78us/step - loss: 3.8794 - acc: 0.1545 - val_loss: 4.1146 - val_acc: 0.1330\n",
      "Epoch 12/150\n",
      "8177/8177 [==============================] - 1s 77us/step - loss: 3.7732 - acc: 0.1710 - val_loss: 4.0549 - val_acc: 0.1457\n",
      "Epoch 13/150\n",
      "8177/8177 [==============================] - 1s 79us/step - loss: 3.6891 - acc: 0.1841 - val_loss: 4.0036 - val_acc: 0.1482\n",
      "Epoch 14/150\n",
      "8177/8177 [==============================] - 1s 79us/step - loss: 3.6056 - acc: 0.2079 - val_loss: 3.9561 - val_acc: 0.1594\n",
      "Epoch 15/150\n",
      "8177/8177 [==============================] - 1s 78us/step - loss: 3.5049 - acc: 0.2227 - val_loss: 3.9137 - val_acc: 0.1643\n",
      "Epoch 16/150\n",
      "8177/8177 [==============================] - 1s 77us/step - loss: 3.4499 - acc: 0.2362 - val_loss: 3.8766 - val_acc: 0.1702\n",
      "Epoch 17/150\n",
      "8177/8177 [==============================] - 1s 78us/step - loss: 3.3569 - acc: 0.2516 - val_loss: 3.8382 - val_acc: 0.1707\n",
      "Epoch 18/150\n",
      "8177/8177 [==============================] - 1s 78us/step - loss: 3.2840 - acc: 0.2653 - val_loss: 3.7998 - val_acc: 0.1780\n",
      "Epoch 19/150\n",
      "8177/8177 [==============================] - 1s 78us/step - loss: 3.1990 - acc: 0.2834 - val_loss: 3.7614 - val_acc: 0.1800\n",
      "Epoch 20/150\n",
      "8177/8177 [==============================] - 1s 79us/step - loss: 3.1377 - acc: 0.2982 - val_loss: 3.7375 - val_acc: 0.1819\n",
      "Epoch 21/150\n",
      "8177/8177 [==============================] - 1s 78us/step - loss: 3.0623 - acc: 0.3041 - val_loss: 3.7024 - val_acc: 0.1922\n",
      "Epoch 22/150\n",
      "8177/8177 [==============================] - 1s 78us/step - loss: 3.0047 - acc: 0.3178 - val_loss: 3.6820 - val_acc: 0.1971\n",
      "Epoch 23/150\n",
      "8177/8177 [==============================] - 1s 77us/step - loss: 2.9307 - acc: 0.3359 - val_loss: 3.6495 - val_acc: 0.1863\n",
      "Epoch 24/150\n",
      "8177/8177 [==============================] - 1s 77us/step - loss: 2.8843 - acc: 0.3480 - val_loss: 3.6232 - val_acc: 0.1951\n",
      "Epoch 25/150\n",
      "8177/8177 [==============================] - 1s 78us/step - loss: 2.8325 - acc: 0.3571 - val_loss: 3.6059 - val_acc: 0.1863\n",
      "Epoch 26/150\n",
      "8177/8177 [==============================] - 1s 78us/step - loss: 2.7629 - acc: 0.3699 - val_loss: 3.5758 - val_acc: 0.2015\n",
      "Epoch 27/150\n",
      "8177/8177 [==============================] - 1s 79us/step - loss: 2.6983 - acc: 0.3898 - val_loss: 3.5577 - val_acc: 0.2010\n",
      "Epoch 28/150\n",
      "8177/8177 [==============================] - 1s 79us/step - loss: 2.6399 - acc: 0.4090 - val_loss: 3.5313 - val_acc: 0.2029\n",
      "Epoch 29/150\n",
      "8177/8177 [==============================] - 1s 79us/step - loss: 2.5890 - acc: 0.4165 - val_loss: 3.5261 - val_acc: 0.2073\n",
      "Epoch 30/150\n",
      "8177/8177 [==============================] - 1s 77us/step - loss: 2.5404 - acc: 0.4273 - val_loss: 3.4964 - val_acc: 0.2112\n",
      "Epoch 31/150\n",
      "8177/8177 [==============================] - 1s 77us/step - loss: 2.4800 - acc: 0.4414 - val_loss: 3.4866 - val_acc: 0.2127\n",
      "Epoch 32/150\n",
      "8177/8177 [==============================] - 1s 78us/step - loss: 2.4547 - acc: 0.4438 - val_loss: 3.4726 - val_acc: 0.2122\n",
      "Epoch 33/150\n",
      "8177/8177 [==============================] - 1s 79us/step - loss: 2.3643 - acc: 0.4684 - val_loss: 3.4548 - val_acc: 0.2122\n",
      "Epoch 34/150\n",
      "8177/8177 [==============================] - 1s 78us/step - loss: 2.3362 - acc: 0.4747 - val_loss: 3.4434 - val_acc: 0.2103\n",
      "Epoch 35/150\n",
      "8177/8177 [==============================] - 1s 78us/step - loss: 2.2943 - acc: 0.4843 - val_loss: 3.4245 - val_acc: 0.2181\n",
      "Epoch 36/150\n",
      "8177/8177 [==============================] - 1s 78us/step - loss: 2.2428 - acc: 0.4948 - val_loss: 3.4188 - val_acc: 0.2200\n",
      "Epoch 37/150\n",
      "8177/8177 [==============================] - 1s 81us/step - loss: 2.2023 - acc: 0.5072 - val_loss: 3.4010 - val_acc: 0.2147\n",
      "Epoch 38/150\n",
      "8177/8177 [==============================] - 1s 88us/step - loss: 2.1409 - acc: 0.5223 - val_loss: 3.3892 - val_acc: 0.2171\n",
      "Epoch 39/150\n",
      "8177/8177 [==============================] - 1s 86us/step - loss: 2.1143 - acc: 0.5298 - val_loss: 3.3763 - val_acc: 0.2225\n",
      "Epoch 40/150\n",
      "8177/8177 [==============================] - 1s 84us/step - loss: 2.0732 - acc: 0.5383 - val_loss: 3.3690 - val_acc: 0.2244\n",
      "Epoch 41/150\n",
      "8177/8177 [==============================] - 1s 90us/step - loss: 2.0296 - acc: 0.5550 - val_loss: 3.3587 - val_acc: 0.2259\n",
      "Epoch 42/150\n",
      "8177/8177 [==============================] - 1s 83us/step - loss: 2.0007 - acc: 0.5564 - val_loss: 3.3484 - val_acc: 0.2215\n",
      "Epoch 43/150\n",
      "8177/8177 [==============================] - 1s 86us/step - loss: 1.9504 - acc: 0.5698 - val_loss: 3.3384 - val_acc: 0.2235\n",
      "Epoch 44/150\n",
      "8177/8177 [==============================] - 1s 86us/step - loss: 1.9218 - acc: 0.5787 - val_loss: 3.3340 - val_acc: 0.2249\n",
      "Epoch 45/150\n",
      "8177/8177 [==============================] - 1s 87us/step - loss: 1.8696 - acc: 0.5947 - val_loss: 3.3245 - val_acc: 0.2235\n",
      "Epoch 46/150\n",
      "8177/8177 [==============================] - 1s 84us/step - loss: 1.8233 - acc: 0.6029 - val_loss: 3.3159 - val_acc: 0.2333\n",
      "Epoch 47/150\n",
      "8177/8177 [==============================] - 1s 85us/step - loss: 1.7892 - acc: 0.6170 - val_loss: 3.3059 - val_acc: 0.2279\n",
      "Epoch 48/150\n",
      "8177/8177 [==============================] - 1s 82us/step - loss: 1.7850 - acc: 0.6166 - val_loss: 3.3024 - val_acc: 0.2313\n",
      "Epoch 49/150\n",
      "8177/8177 [==============================] - 1s 85us/step - loss: 1.7112 - acc: 0.6303 - val_loss: 3.2996 - val_acc: 0.2323\n",
      "Epoch 50/150\n",
      "8177/8177 [==============================] - 1s 85us/step - loss: 1.6938 - acc: 0.6325 - val_loss: 3.2885 - val_acc: 0.2298\n",
      "Epoch 51/150\n",
      "8177/8177 [==============================] - 1s 85us/step - loss: 1.6563 - acc: 0.6520 - val_loss: 3.2843 - val_acc: 0.2284\n",
      "Epoch 52/150\n",
      "8177/8177 [==============================] - 1s 82us/step - loss: 1.6233 - acc: 0.6545 - val_loss: 3.2777 - val_acc: 0.2279\n",
      "Epoch 53/150\n",
      "8177/8177 [==============================] - 1s 83us/step - loss: 1.5927 - acc: 0.6647 - val_loss: 3.2703 - val_acc: 0.2333\n",
      "Epoch 54/150\n",
      "8177/8177 [==============================] - 1s 82us/step - loss: 1.5420 - acc: 0.6818 - val_loss: 3.2718 - val_acc: 0.2347\n",
      "Epoch 55/150\n",
      "8177/8177 [==============================] - 1s 85us/step - loss: 1.5262 - acc: 0.6814 - val_loss: 3.2585 - val_acc: 0.2274\n",
      "Epoch 56/150\n",
      "8177/8177 [==============================] - 1s 82us/step - loss: 1.5012 - acc: 0.6889 - val_loss: 3.2649 - val_acc: 0.2333\n",
      "Epoch 57/150\n",
      "8177/8177 [==============================] - 1s 88us/step - loss: 1.4736 - acc: 0.6959 - val_loss: 3.2547 - val_acc: 0.2328\n",
      "Epoch 58/150\n",
      "8177/8177 [==============================] - 1s 86us/step - loss: 1.4254 - acc: 0.7025 - val_loss: 3.2496 - val_acc: 0.2342\n",
      "Epoch 59/150\n",
      "8177/8177 [==============================] - 1s 86us/step - loss: 1.4036 - acc: 0.7191 - val_loss: 3.2505 - val_acc: 0.2372\n",
      "Epoch 60/150\n",
      "8177/8177 [==============================] - 1s 84us/step - loss: 1.3821 - acc: 0.7164 - val_loss: 3.2410 - val_acc: 0.2362\n",
      "Epoch 61/150\n",
      "8177/8177 [==============================] - 1s 86us/step - loss: 1.3714 - acc: 0.7193 - val_loss: 3.2424 - val_acc: 0.2328\n",
      "Epoch 62/150\n",
      "8177/8177 [==============================] - 1s 82us/step - loss: 1.3272 - acc: 0.7278 - val_loss: 3.2387 - val_acc: 0.2337\n",
      "Epoch 63/150\n",
      "8177/8177 [==============================] - 1s 81us/step - loss: 1.2934 - acc: 0.7388 - val_loss: 3.2337 - val_acc: 0.2381\n",
      "Epoch 64/150\n",
      "8177/8177 [==============================] - 1s 94us/step - loss: 1.2719 - acc: 0.7434 - val_loss: 3.2312 - val_acc: 0.2342\n",
      "Epoch 65/150\n",
      "8177/8177 [==============================] - 1s 90us/step - loss: 1.2304 - acc: 0.7581 - val_loss: 3.2317 - val_acc: 0.2352\n",
      "Epoch 66/150\n",
      "8177/8177 [==============================] - 1s 89us/step - loss: 1.2141 - acc: 0.7587 - val_loss: 3.2354 - val_acc: 0.2328\n",
      "Epoch 67/150\n",
      "8177/8177 [==============================] - 1s 91us/step - loss: 1.1946 - acc: 0.7643 - val_loss: 3.2260 - val_acc: 0.2367\n",
      "Epoch 68/150\n",
      "8177/8177 [==============================] - 1s 92us/step - loss: 1.1628 - acc: 0.7740 - val_loss: 3.2228 - val_acc: 0.2406\n",
      "Epoch 69/150\n",
      "8177/8177 [==============================] - 1s 93us/step - loss: 1.1378 - acc: 0.7816 - val_loss: 3.2256 - val_acc: 0.2328\n",
      "Epoch 70/150\n",
      "8177/8177 [==============================] - 1s 89us/step - loss: 1.1164 - acc: 0.7839 - val_loss: 3.2267 - val_acc: 0.2367\n",
      "Epoch 71/150\n",
      "8177/8177 [==============================] - 1s 91us/step - loss: 1.0907 - acc: 0.7910 - val_loss: 3.2174 - val_acc: 0.2396\n",
      "Epoch 72/150\n",
      "8177/8177 [==============================] - 1s 94us/step - loss: 1.0646 - acc: 0.7983 - val_loss: 3.2188 - val_acc: 0.2396\n",
      "Epoch 73/150\n",
      "8177/8177 [==============================] - 1s 92us/step - loss: 1.0329 - acc: 0.8030 - val_loss: 3.2113 - val_acc: 0.2469\n",
      "Epoch 74/150\n",
      "8177/8177 [==============================] - 1s 92us/step - loss: 1.0444 - acc: 0.7994 - val_loss: 3.2168 - val_acc: 0.2450\n",
      "Epoch 75/150\n",
      "8177/8177 [==============================] - 1s 93us/step - loss: 0.9945 - acc: 0.8158 - val_loss: 3.2120 - val_acc: 0.2435\n",
      "Epoch 76/150\n",
      "8177/8177 [==============================] - 1s 89us/step - loss: 0.9815 - acc: 0.8151 - val_loss: 3.2139 - val_acc: 0.2372\n",
      "Epoch 77/150\n",
      "8177/8177 [==============================] - 1s 90us/step - loss: 0.9555 - acc: 0.8254 - val_loss: 3.2077 - val_acc: 0.2396\n",
      "Epoch 78/150\n",
      "8177/8177 [==============================] - 1s 92us/step - loss: 0.9492 - acc: 0.8262 - val_loss: 3.2084 - val_acc: 0.2406\n",
      "Epoch 79/150\n",
      "8177/8177 [==============================] - 1s 92us/step - loss: 0.9195 - acc: 0.8287 - val_loss: 3.2150 - val_acc: 0.2421\n",
      "Epoch 80/150\n",
      "8177/8177 [==============================] - 1s 93us/step - loss: 0.8874 - acc: 0.8403 - val_loss: 3.2036 - val_acc: 0.2411\n",
      "Epoch 81/150\n",
      "8177/8177 [==============================] - 1s 93us/step - loss: 0.8890 - acc: 0.8402 - val_loss: 3.2088 - val_acc: 0.2416\n",
      "Epoch 82/150\n",
      "8177/8177 [==============================] - 1s 88us/step - loss: 0.8493 - acc: 0.8490 - val_loss: 3.2062 - val_acc: 0.2396\n",
      "Epoch 83/150\n",
      "8177/8177 [==============================] - 1s 90us/step - loss: 0.8423 - acc: 0.8475 - val_loss: 3.2058 - val_acc: 0.2474\n",
      "Epoch 84/150\n",
      "8177/8177 [==============================] - 1s 89us/step - loss: 0.8408 - acc: 0.8514 - val_loss: 3.2114 - val_acc: 0.2435\n",
      "Epoch 85/150\n",
      "8177/8177 [==============================] - 1s 92us/step - loss: 0.8134 - acc: 0.8558 - val_loss: 3.2137 - val_acc: 0.2484\n",
      "Epoch 86/150\n",
      "8177/8177 [==============================] - 1s 90us/step - loss: 0.7868 - acc: 0.8621 - val_loss: 3.2195 - val_acc: 0.2450\n",
      "Epoch 87/150\n",
      "8177/8177 [==============================] - 1s 88us/step - loss: 0.7727 - acc: 0.8652 - val_loss: 3.2151 - val_acc: 0.2479\n",
      "Epoch 88/150\n",
      "8177/8177 [==============================] - 1s 91us/step - loss: 0.7420 - acc: 0.8710 - val_loss: 3.2200 - val_acc: 0.2421\n",
      "Epoch 89/150\n",
      "8177/8177 [==============================] - 1s 91us/step - loss: 0.7315 - acc: 0.8745 - val_loss: 3.2134 - val_acc: 0.2435\n",
      "Epoch 90/150\n",
      "8177/8177 [==============================] - 1s 90us/step - loss: 0.7351 - acc: 0.8729 - val_loss: 3.2162 - val_acc: 0.2465\n",
      "Epoch 00090: early stopping\n"
     ]
    }
   ],
   "source": [
    "# training\n",
    "history = model.fit(train_features, train_labels,\n",
    "                    epochs = epochs,\n",
    "                    callbacks=callbacks,\n",
    "                    batch_size = batch_size,\n",
    "                    validation_data = (val_features, val_labels))"
   ]
  },
  {
   "cell_type": "code",
   "execution_count": 44,
   "metadata": {},
   "outputs": [],
   "source": [
    "# save moodel\n",
    "model_name = 'dbi_pre_trained_fast_feature_extraction_3.h5'\n",
    "model.save(os.path.join(save_dir, model_name))"
   ]
  },
  {
   "cell_type": "code",
   "execution_count": 45,
   "metadata": {},
   "outputs": [
    {
     "data": {
      "image/png": "[encoded data removed]",
      "text/plain": [
       "<Figure size 432x288 with 1 Axes>"
      ]
     },
     "metadata": {},
     "output_type": "display_data"
    },
    {
     "data": {
      "image/png": "[encoded data removed]",
      "text/plain": [
       "<Figure size 432x288 with 1 Axes>"
      ]
     },
     "metadata": {},
     "output_type": "display_data"
    }
   ],
   "source": [
    "# plot model history\n",
    "my_utils.plot_history(history)"
   ]
  },
  {
   "cell_type": "markdown",
   "metadata": {},
   "source": [
    "**Model Extension:**"
   ]
  },
  {
   "cell_type": "code",
   "execution_count": 46,
   "metadata": {},
   "outputs": [
    {
     "name": "stdout",
     "output_type": "stream",
     "text": [
      "_________________________________________________________________\n",
      "Layer (type)                 Output Shape              Param #   \n",
      "=================================================================\n",
      "vgg16 (Model)                (None, 4, 4, 512)         14714688  \n",
      "_________________________________________________________________\n",
      "flatten_3 (Flatten)          (None, 8192)              0         \n",
      "_________________________________________________________________\n",
      "dense_7 (Dense)              (None, 256)               2097408   \n",
      "_________________________________________________________________\n",
      "dense_8 (Dense)              (None, 120)               30840     \n",
      "=================================================================\n",
      "Total params: 16,842,936\n",
      "Trainable params: 16,842,936\n",
      "Non-trainable params: 0\n",
      "_________________________________________________________________\n"
     ]
    }
   ],
   "source": [
    "# model\n",
    "model = Sequential()\n",
    "\n",
    "model.add(vgg16_conv_base)\n",
    "\n",
    "model.add(Flatten())\n",
    "model.add(Dense(256, activation='relu'))\n",
    "model.add(Dense(num_classes, activation='softmax'))\n",
    "\n",
    "model.summary()"
   ]
  },
  {
   "cell_type": "code",
   "execution_count": 49,
   "metadata": {},
   "outputs": [
    {
     "name": "stdout",
     "output_type": "stream",
     "text": [
      "This is the number of trainable weights before freezing the conv base: 4\n",
      "This is the number of trainable weights after freezing the conv base: 4\n"
     ]
    }
   ],
   "source": [
    "# freeze the conv_base\n",
    "print('This is the number of trainable weights before freezing the conv base:', len(model.trainable_weights))\n",
    "vgg16_conv_base.trainable = False\n",
    "print('This is the number of trainable weights after freezing the conv base:', len(model.trainable_weights))"
   ]
  },
  {
   "cell_type": "code",
   "execution_count": 50,
   "metadata": {},
   "outputs": [],
   "source": [
    "# compile modle\n",
    "model.compile(optimizer=RMSprop(lr=1e-4),\n",
    "              loss='categorical_crossentropy',\n",
    "              metrics=['acc'])"
   ]
  },
  {
   "cell_type": "code",
   "execution_count": 51,
   "metadata": {},
   "outputs": [
    {
     "name": "stdout",
     "output_type": "stream",
     "text": [
      "Found 8177 images belonging to 120 classes.\n",
      "Found 2045 images belonging to 120 classes.\n"
     ]
    }
   ],
   "source": [
    "# data generators\n",
    "train_generator = my_utils.data_generator(train_dir, target_size, batch_size, augment = True)\n",
    "val_generator = my_utils.data_generator(val_dir, target_size, batch_size)"
   ]
  },
  {
   "cell_type": "code",
   "execution_count": 52,
   "metadata": {},
   "outputs": [],
   "source": [
    "# fitting parameters\n",
    "epochs = 150\n",
    "callbacks = [EarlyStopping(monitor='val_loss', min_delta=1e-4, patience=10, verbose=1, mode='auto')]"
   ]
  },
  {
   "cell_type": "code",
   "execution_count": 53,
   "metadata": {},
   "outputs": [
    {
     "name": "stdout",
     "output_type": "stream",
     "text": [
      "Epoch 1/150\n",
      "31/31 [==============================] - 89s 3s/step - loss: 4.8106 - acc: 0.0148 - val_loss: 4.7132 - val_acc: 0.0251\n",
      "Epoch 2/150\n",
      "Epoch 1/150\n",
      "30/31 [============================>.] - ETA: 1s - loss: 4.7101 - acc: 0.0291Epoch 1/150\n",
      "31/31 [==============================] - 74s 2s/step - loss: 4.7095 - acc: 0.0293 - val_loss: 4.6200 - val_acc: 0.0419\n",
      "Epoch 3/150\n",
      "31/31 [==============================] - 66s 2s/step - loss: 4.6301 - acc: 0.0421 - val_loss: 4.5251 - val_acc: 0.0537\n",
      "Epoch 4/150\n",
      "31/31 [==============================] - 68s 2s/step - loss: 4.5463 - acc: 0.0568 - val_loss: 4.4333 - val_acc: 0.0620\n",
      "Epoch 5/150\n",
      "31/31 [==============================] - 69s 2s/step - loss: 4.4696 - acc: 0.0707 - val_loss: 4.3475 - val_acc: 0.0822\n",
      "Epoch 6/150\n",
      "31/31 [==============================] - 67s 2s/step - loss: 4.3798 - acc: 0.0767 - val_loss: 4.2593 - val_acc: 0.0866\n",
      "Epoch 7/150\n",
      "31/31 [==============================] - 70s 2s/step - loss: 4.2997 - acc: 0.0900 - val_loss: 4.1929 - val_acc: 0.1118\n",
      "Epoch 8/150\n",
      "31/31 [==============================] - 67s 2s/step - loss: 4.2256 - acc: 0.1000 - val_loss: 4.1250 - val_acc: 0.1140\n",
      "Epoch 9/150\n",
      "31/31 [==============================] - 67s 2s/step - loss: 4.1537 - acc: 0.1161 - val_loss: 4.0459 - val_acc: 0.1239\n",
      "Epoch 10/150\n",
      "31/31 [==============================] - 67s 2s/step - loss: 4.1062 - acc: 0.1178 - val_loss: 4.0122 - val_acc: 0.1353\n",
      "Epoch 11/150\n",
      "31/31 [==============================] - 69s 2s/step - loss: 4.0345 - acc: 0.1324 - val_loss: 3.9413 - val_acc: 0.1358\n",
      "Epoch 12/150\n",
      "31/31 [==============================] - 69s 2s/step - loss: 3.9815 - acc: 0.1365 - val_loss: 3.8946 - val_acc: 0.1386\n",
      "Epoch 13/150\n",
      "31/31 [==============================] - 69s 2s/step - loss: 3.9256 - acc: 0.1497 - val_loss: 3.8305 - val_acc: 0.1632\n",
      "Epoch 14/150\n",
      "31/31 [==============================] - 67s 2s/step - loss: 3.8830 - acc: 0.1489 - val_loss: 3.8060 - val_acc: 0.1526\n",
      "Epoch 15/150\n",
      "31/31 [==============================] - 68s 2s/step - loss: 3.8340 - acc: 0.1625 - val_loss: 3.7570 - val_acc: 0.1604\n",
      "Epoch 16/150\n",
      "31/31 [==============================] - 65s 2s/step - loss: 3.7874 - acc: 0.1697 - val_loss: 3.7150 - val_acc: 0.1671\n",
      "Epoch 17/150\n",
      "31/31 [==============================] - 65s 2s/step - loss: 3.7274 - acc: 0.1792 - val_loss: 3.7132 - val_acc: 0.1585\n",
      "Epoch 18/150\n",
      "31/31 [==============================] - 69s 2s/step - loss: 3.7040 - acc: 0.1874 - val_loss: 3.6334 - val_acc: 0.1699\n",
      "Epoch 19/150\n",
      "31/31 [==============================] - 68s 2s/step - loss: 3.6522 - acc: 0.1942 - val_loss: 3.6268 - val_acc: 0.1750\n",
      "Epoch 20/150\n",
      "31/31 [==============================] - 68s 2s/step - loss: 3.6188 - acc: 0.1946 - val_loss: 3.6210 - val_acc: 0.1716\n",
      "Epoch 21/150\n",
      "31/31 [==============================] - 70s 2s/step - loss: 3.5901 - acc: 0.1977 - val_loss: 3.6256 - val_acc: 0.1683\n",
      "Epoch 22/150\n",
      "31/31 [==============================] - 68s 2s/step - loss: 3.5567 - acc: 0.2063 - val_loss: 3.4955 - val_acc: 0.2001\n",
      "Epoch 23/150\n",
      "31/31 [==============================] - 67s 2s/step - loss: 3.5278 - acc: 0.2055 - val_loss: 3.5843 - val_acc: 0.1828\n",
      "Epoch 24/150\n",
      "31/31 [==============================] - 66s 2s/step - loss: 3.4925 - acc: 0.2174 - val_loss: 3.5040 - val_acc: 0.1861\n",
      "Epoch 25/150\n",
      "31/31 [==============================] - 65s 2s/step - loss: 3.4697 - acc: 0.2220 - val_loss: 3.4976 - val_acc: 0.1903\n",
      "Epoch 26/150\n",
      "31/31 [==============================] - 69s 2s/step - loss: 3.4293 - acc: 0.2262 - val_loss: 3.4383 - val_acc: 0.2063\n",
      "Epoch 27/150\n",
      "31/31 [==============================] - 68s 2s/step - loss: 3.4060 - acc: 0.2272 - val_loss: 3.4653 - val_acc: 0.1923\n",
      "Epoch 28/150\n",
      "31/31 [==============================] - 68s 2s/step - loss: 3.3800 - acc: 0.2316 - val_loss: 3.4608 - val_acc: 0.2001\n",
      "Epoch 29/150\n",
      "31/31 [==============================] - 69s 2s/step - loss: 3.3542 - acc: 0.2374 - val_loss: 3.4318 - val_acc: 0.2007\n",
      "Epoch 30/150\n",
      "31/31 [==============================] - 67s 2s/step - loss: 3.3540 - acc: 0.2382 - val_loss: 3.4464 - val_acc: 0.1996\n",
      "Epoch 31/150\n",
      "31/31 [==============================] - 70s 2s/step - loss: 3.3085 - acc: 0.2393 - val_loss: 3.3919 - val_acc: 0.2091\n",
      "Epoch 32/150\n",
      "31/31 [==============================] - 55s 2s/step - loss: 3.2817 - acc: 0.2510 - val_loss: 3.3798 - val_acc: 0.2040\n",
      "Epoch 33/150\n",
      "31/31 [==============================] - 57s 2s/step - loss: 3.2610 - acc: 0.2527 - val_loss: 3.3547 - val_acc: 0.2193\n",
      "Epoch 34/150\n",
      "31/31 [==============================] - 68s 2s/step - loss: 3.2555 - acc: 0.2544 - val_loss: 3.3576 - val_acc: 0.2141\n",
      "Epoch 35/150\n",
      "31/31 [==============================] - 68s 2s/step - loss: 3.2078 - acc: 0.2639 - val_loss: 3.3714 - val_acc: 0.2219\n",
      "Epoch 36/150\n",
      "31/31 [==============================] - 67s 2s/step - loss: 3.2004 - acc: 0.2607 - val_loss: 3.2806 - val_acc: 0.2208\n",
      "Epoch 37/150\n",
      "31/31 [==============================] - 67s 2s/step - loss: 3.1789 - acc: 0.2718 - val_loss: 3.3358 - val_acc: 0.2214\n",
      "Epoch 38/150\n",
      "31/31 [==============================] - 69s 2s/step - loss: 3.1596 - acc: 0.2755 - val_loss: 3.3764 - val_acc: 0.2119\n",
      "Epoch 39/150\n",
      "31/31 [==============================] - 69s 2s/step - loss: 3.1395 - acc: 0.2676 - val_loss: 3.2796 - val_acc: 0.2353\n",
      "Epoch 40/150\n",
      "31/31 [==============================] - 67s 2s/step - loss: 3.1310 - acc: 0.2697 - val_loss: 3.2887 - val_acc: 0.2241\n",
      "Epoch 41/150\n",
      "31/31 [==============================] - 67s 2s/step - loss: 3.1203 - acc: 0.2752 - val_loss: 3.2827 - val_acc: 0.2310\n",
      "Epoch 42/150\n",
      "31/31 [==============================] - 70s 2s/step - loss: 3.0984 - acc: 0.2784 - val_loss: 3.2739 - val_acc: 0.2292\n",
      "Epoch 43/150\n",
      "31/31 [==============================] - 70s 2s/step - loss: 3.0700 - acc: 0.2897 - val_loss: 3.2710 - val_acc: 0.2342\n",
      "Epoch 44/150\n",
      "31/31 [==============================] - 68s 2s/step - loss: 3.0377 - acc: 0.2936 - val_loss: 3.3010 - val_acc: 0.2124\n",
      "Epoch 45/150\n",
      "31/31 [==============================] - 68s 2s/step - loss: 3.0471 - acc: 0.2949 - val_loss: 3.2591 - val_acc: 0.2208\n",
      "Epoch 46/150\n",
      "31/31 [==============================] - 68s 2s/step - loss: 3.0441 - acc: 0.2928 - val_loss: 3.2333 - val_acc: 0.2359\n",
      "Epoch 47/150\n",
      "31/31 [==============================] - 67s 2s/step - loss: 3.0011 - acc: 0.3023 - val_loss: 3.2206 - val_acc: 0.2320\n",
      "Epoch 48/150\n",
      "31/31 [==============================] - 65s 2s/step - loss: 2.9708 - acc: 0.3049 - val_loss: 3.2488 - val_acc: 0.2258\n",
      "Epoch 49/150\n",
      "31/31 [==============================] - 65s 2s/step - loss: 2.9911 - acc: 0.3031 - val_loss: 3.2068 - val_acc: 0.2388\n",
      "Epoch 50/150\n",
      "31/31 [==============================] - 69s 2s/step - loss: 2.9501 - acc: 0.3123 - val_loss: 3.2546 - val_acc: 0.2275\n",
      "Epoch 51/150\n",
      "31/31 [==============================] - 67s 2s/step - loss: 2.9759 - acc: 0.3009 - val_loss: 3.2214 - val_acc: 0.2281\n",
      "Epoch 52/150\n",
      "31/31 [==============================] - 69s 2s/step - loss: 2.9512 - acc: 0.3092 - val_loss: 3.2075 - val_acc: 0.2465\n",
      "Epoch 53/150\n",
      "31/31 [==============================] - 69s 2s/step - loss: 2.9305 - acc: 0.3072 - val_loss: 3.1783 - val_acc: 0.2314\n",
      "Epoch 54/150\n",
      "31/31 [==============================] - 68s 2s/step - loss: 2.8955 - acc: 0.3167 - val_loss: 3.2170 - val_acc: 0.2409\n",
      "Epoch 55/150\n",
      "31/31 [==============================] - 68s 2s/step - loss: 2.8917 - acc: 0.3184 - val_loss: 3.2495 - val_acc: 0.2353\n",
      "Epoch 56/150\n",
      "31/31 [==============================] - 66s 2s/step - loss: 2.8870 - acc: 0.3208 - val_loss: 3.1666 - val_acc: 0.2426\n",
      "Epoch 57/150\n",
      "31/31 [==============================] - 65s 2s/step - loss: 2.8816 - acc: 0.3225 - val_loss: 3.2226 - val_acc: 0.2294\n",
      "Epoch 58/150\n",
      "31/31 [==============================] - 69s 2s/step - loss: 2.8594 - acc: 0.3273 - val_loss: 3.1787 - val_acc: 0.2448\n",
      "Epoch 59/150\n",
      "31/31 [==============================] - 70s 2s/step - loss: 2.8513 - acc: 0.3335 - val_loss: 3.1520 - val_acc: 0.2448\n",
      "Epoch 60/150\n",
      "31/31 [==============================] - 68s 2s/step - loss: 2.8551 - acc: 0.3232 - val_loss: 3.1733 - val_acc: 0.2342\n",
      "Epoch 61/150\n",
      "31/31 [==============================] - 68s 2s/step - loss: 2.8248 - acc: 0.3342 - val_loss: 3.2211 - val_acc: 0.2532\n",
      "Epoch 62/150\n",
      "31/31 [==============================] - 68s 2s/step - loss: 2.8105 - acc: 0.3291 - val_loss: 3.1106 - val_acc: 0.2482\n",
      "Epoch 63/150\n",
      "31/31 [==============================] - 68s 2s/step - loss: 2.7999 - acc: 0.3390 - val_loss: 3.1770 - val_acc: 0.2437\n",
      "Epoch 64/150\n",
      "31/31 [==============================] - 55s 2s/step - loss: 2.7887 - acc: 0.3407 - val_loss: 3.1938 - val_acc: 0.2459\n",
      "Epoch 65/150\n",
      "31/31 [==============================] - 55s 2s/step - loss: 2.7713 - acc: 0.3428 - val_loss: 3.1722 - val_acc: 0.2500\n",
      "Epoch 66/150\n",
      "30/31 [============================>.] - ETA: 1s - loss: 2.7888 - acc: 0.3461Epoch 65/150\n",
      "31/31 [==============================] - 67s 2s/step - loss: 2.7878 - acc: 0.3475 - val_loss: 3.1758 - val_acc: 0.2465\n",
      "Epoch 67/150\n",
      "31/31 [==============================] - 68s 2s/step - loss: 2.7473 - acc: 0.3527 - val_loss: 3.1392 - val_acc: 0.2521\n",
      "Epoch 68/150\n",
      "31/31 [==============================] - 68s 2s/step - loss: 2.7416 - acc: 0.3435 - val_loss: 3.1825 - val_acc: 0.2353\n",
      "Epoch 69/150\n",
      "31/31 [==============================] - 69s 2s/step - loss: 2.7462 - acc: 0.3551 - val_loss: 3.1762 - val_acc: 0.2549\n",
      "Epoch 70/150\n",
      "31/31 [==============================] - 68s 2s/step - loss: 2.7163 - acc: 0.3517 - val_loss: 3.1020 - val_acc: 0.2594\n",
      "Epoch 71/150\n",
      "31/31 [==============================] - 69s 2s/step - loss: 2.7116 - acc: 0.3536 - val_loss: 3.1643 - val_acc: 0.2381\n",
      "Epoch 72/150\n",
      "31/31 [==============================] - 68s 2s/step - loss: 2.7342 - acc: 0.3555 - val_loss: 3.1635 - val_acc: 0.2510\n",
      "Epoch 73/150\n",
      "31/31 [==============================] - 67s 2s/step - loss: 2.7063 - acc: 0.3530 - val_loss: 3.1591 - val_acc: 0.2444\n",
      "Epoch 74/150\n",
      "31/31 [==============================] - 68s 2s/step - loss: 2.6826 - acc: 0.3627 - val_loss: 3.1554 - val_acc: 0.2527\n",
      "Epoch 75/150\n",
      "31/31 [==============================] - 70s 2s/step - loss: 2.6802 - acc: 0.3602 - val_loss: 3.0957 - val_acc: 0.2666\n",
      "Epoch 76/150\n",
      "31/31 [==============================] - 69s 2s/step - loss: 2.6550 - acc: 0.3704 - val_loss: 3.2021 - val_acc: 0.2398\n",
      "Epoch 77/150\n",
      "31/31 [==============================] - 69s 2s/step - loss: 2.6594 - acc: 0.3686 - val_loss: 3.0350 - val_acc: 0.2823\n",
      "Epoch 78/150\n",
      "31/31 [==============================] - 69s 2s/step - loss: 2.6537 - acc: 0.3651 - val_loss: 3.1998 - val_acc: 0.2381\n",
      "Epoch 79/150\n",
      "31/31 [==============================] - 68s 2s/step - loss: 2.6673 - acc: 0.3618 - val_loss: 3.0973 - val_acc: 0.2672\n",
      "Epoch 80/150\n",
      "31/31 [==============================] - 64s 2s/step - loss: 2.6118 - acc: 0.3741 - val_loss: 3.1550 - val_acc: 0.2599\n",
      "Epoch 81/150\n",
      "31/31 [==============================] - 66s 2s/step - loss: 2.6277 - acc: 0.3674 - val_loss: 3.1506 - val_acc: 0.2494\n",
      "Epoch 82/150\n",
      "31/31 [==============================] - 69s 2s/step - loss: 2.6222 - acc: 0.3738 - val_loss: 3.0815 - val_acc: 0.2655\n",
      "Epoch 83/150\n",
      "31/31 [==============================] - 70s 2s/step - loss: 2.5842 - acc: 0.3754 - val_loss: 3.1792 - val_acc: 0.2448\n",
      "Epoch 84/150\n",
      "31/31 [==============================] - 69s 2s/step - loss: 2.6177 - acc: 0.3717 - val_loss: 3.1272 - val_acc: 0.2527\n",
      "Epoch 85/150\n",
      "31/31 [==============================] - 69s 2s/step - loss: 2.5917 - acc: 0.3766 - val_loss: 3.1051 - val_acc: 0.2594\n",
      "Epoch 86/150\n",
      "31/31 [==============================] - 70s 2s/step - loss: 2.5638 - acc: 0.3828 - val_loss: 3.2056 - val_acc: 0.2538\n",
      "Epoch 87/150\n",
      "31/31 [==============================] - 69s 2s/step - loss: 2.5670 - acc: 0.3877 - val_loss: 3.1141 - val_acc: 0.2549\n",
      "Epoch 00087: early stopping\n"
     ]
    }
   ],
   "source": [
    "history = model.fit_generator(\n",
    "                train_generator,\n",
    "                steps_per_epoch = train_sample_count // batch_size,\n",
    "                epochs = epochs,\n",
    "                callbacks = callbacks,\n",
    "                validation_data = val_generator,\n",
    "                validation_steps = val_sample_count // batch_size,\n",
    "                workers=16,\n",
    "                use_multiprocessing=True)"
   ]
  },
  {
   "cell_type": "code",
   "execution_count": 54,
   "metadata": {},
   "outputs": [],
   "source": [
    "# save moodel\n",
    "model_name = 'dbi_pre_trained_model_extension_4.h5'\n",
    "model.save(os.path.join(save_dir, model_name))"
   ]
  },
  {
   "cell_type": "code",
   "execution_count": 55,
   "metadata": {},
   "outputs": [
    {
     "data": {
      "image/png": "[encoded data removed]",
      "text/plain": [
       "<Figure size 432x288 with 1 Axes>"
      ]
     },
     "metadata": {},
     "output_type": "display_data"
    },
    {
     "data": {
      "image/png": "[encoded data removed]",
      "text/plain": [
       "<Figure size 432x288 with 1 Axes>"
      ]
     },
     "metadata": {},
     "output_type": "display_data"
    }
   ],
   "source": [
    "# plot model history\n",
    "my_utils.plot_history(history)"
   ]
  },
  {
   "cell_type": "markdown",
   "metadata": {},
   "source": [
    "**Fine-tuning:** "
   ]
  },
  {
   "cell_type": "code",
   "execution_count": 71,
   "metadata": {},
   "outputs": [],
   "source": [
    "# freezing everything but the last block\n",
    "vgg16_conv_base.trainable = True\n",
    "set_trainable = False\n",
    "for layer in vgg16_conv_base.layers:\n",
    "    if layer.name == 'block5_conv1':\n",
    "        set_trainable = True\n",
    "    if set_trainable:\n",
    "        layer.trainable = True\n",
    "    else:\n",
    "        layer.trainable = False"
   ]
  },
  {
   "cell_type": "code",
   "execution_count": 78,
   "metadata": {},
   "outputs": [],
   "source": [
    "# compile model\n",
    "model.compile(loss='categorical_crossentropy',\n",
    "              optimizer=RMSprop(lr=1e-5),\n",
    "              metrics=['acc'])"
   ]
  },
  {
   "cell_type": "code",
   "execution_count": 79,
   "metadata": {},
   "outputs": [],
   "source": [
    "# fitting parameters\n",
    "epochs = 100\n",
    "callbacks = [EarlyStopping(monitor='val_loss', min_delta=1e-4, patience=10, verbose=1, mode='auto')]"
   ]
  },
  {
   "cell_type": "code",
   "execution_count": 80,
   "metadata": {},
   "outputs": [
    {
     "name": "stdout",
     "output_type": "stream",
     "text": [
      "Epoch 1/100\n",
      "31/31 [==============================] - 77s 2s/step - loss: 15.9715 - acc: 0.0091 - val_loss: 15.9742 - val_acc: 0.0089\n",
      "Epoch 2/100\n",
      "31/31 [==============================] - 70s 2s/step - loss: 15.9658 - acc: 0.0095 - val_loss: 15.9649 - val_acc: 0.0095\n",
      "Epoch 3/100\n",
      "31/31 [==============================] - 72s 2s/step - loss: 15.9549 - acc: 0.0101 - val_loss: 15.9469 - val_acc: 0.0106\n",
      "Epoch 4/100\n",
      "31/31 [==============================] - 75s 2s/step - loss: 15.9799 - acc: 0.0086 - val_loss: 15.9920 - val_acc: 0.0078\n",
      "Epoch 5/100\n",
      "31/31 [==============================] - 73s 2s/step - loss: 15.9674 - acc: 0.0093 - val_loss: 15.9739 - val_acc: 0.0089\n",
      "Epoch 6/100\n",
      "31/31 [==============================] - 73s 2s/step - loss: 15.9594 - acc: 0.0098 - val_loss: 15.9739 - val_acc: 0.0089\n",
      "Epoch 7/100\n",
      "31/31 [==============================] - 73s 2s/step - loss: 15.9715 - acc: 0.0091 - val_loss: 15.9379 - val_acc: 0.0112\n",
      "Epoch 8/100\n",
      "31/31 [==============================] - 72s 2s/step - loss: 15.9674 - acc: 0.0093 - val_loss: 15.9830 - val_acc: 0.0084\n",
      "Epoch 9/100\n",
      "31/31 [==============================] - 71s 2s/step - loss: 15.9677 - acc: 0.0093 - val_loss: 15.9832 - val_acc: 0.0084\n",
      "Epoch 10/100\n",
      "31/31 [==============================] - 75s 2s/step - loss: 15.9861 - acc: 0.0082 - val_loss: 15.9379 - val_acc: 0.0112\n",
      "Epoch 11/100\n",
      "31/31 [==============================] - 73s 2s/step - loss: 15.9655 - acc: 0.0095 - val_loss: 15.9920 - val_acc: 0.0078\n",
      "Epoch 12/100\n",
      "31/31 [==============================] - 73s 2s/step - loss: 15.9651 - acc: 0.0095 - val_loss: 15.9649 - val_acc: 0.0095\n",
      "Epoch 13/100\n",
      "31/31 [==============================] - 72s 2s/step - loss: 15.9594 - acc: 0.0098 - val_loss: 15.9649 - val_acc: 0.0095\n",
      "Epoch 14/100\n",
      "31/31 [==============================] - 73s 2s/step - loss: 15.9716 - acc: 0.0091 - val_loss: 15.9739 - val_acc: 0.0089\n",
      "Epoch 15/100\n",
      "31/31 [==============================] - 74s 2s/step - loss: 15.9698 - acc: 0.0092 - val_loss: 15.9559 - val_acc: 0.0101\n",
      "Epoch 16/100\n",
      "31/31 [==============================] - 70s 2s/step - loss: 15.9655 - acc: 0.0095 - val_loss: 15.9739 - val_acc: 0.0089\n",
      "Epoch 17/100\n",
      "31/31 [==============================] - 70s 2s/step - loss: 15.9755 - acc: 0.0088 - val_loss: 15.9472 - val_acc: 0.0106\n",
      "Epoch 00017: early stopping\n"
     ]
    }
   ],
   "source": [
    "history = model.fit_generator(\n",
    "                train_generator,\n",
    "                steps_per_epoch = train_sample_count // batch_size,\n",
    "                epochs = epochs,\n",
    "                callbacks = callbacks,\n",
    "                validation_data = val_generator,\n",
    "                validation_steps = val_sample_count // batch_size,\n",
    "                workers=16,\n",
    "                use_multiprocessing=True)"
   ]
  },
  {
   "cell_type": "code",
   "execution_count": 81,
   "metadata": {},
   "outputs": [],
   "source": [
    "# save moodel\n",
    "model_name = 'dbi_fine_tuning_5.h5'\n",
    "model.save(os.path.join(save_dir, model_name))"
   ]
  },
  {
   "cell_type": "code",
   "execution_count": 82,
   "metadata": {},
   "outputs": [
    {
     "data": {
      "image/png": "[encoded data removed]",
      "text/plain": [
       "<Figure size 432x288 with 1 Axes>"
      ]
     },
     "metadata": {},
     "output_type": "display_data"
    },
    {
     "data": {
      "image/png": "[encoded data removed]",
      "text/plain": [
       "<Figure size 432x288 with 1 Axes>"
      ]
     },
     "metadata": {},
     "output_type": "display_data"
    }
   ],
   "source": [
    "# plot model history\n",
    "my_utils.plot_history(history)"
   ]
  },
  {
   "cell_type": "code",
   "execution_count": null,
   "metadata": {},
   "outputs": [],
   "source": []
  }
 ],
 "metadata": {
  "kernelspec": {
   "display_name": "Python 3",
   "language": "python",
   "name": "python3"
  },
  "language_info": {
   "codemirror_mode": {
    "name": "ipython",
    "version": 3
   },
   "file_extension": ".py",
   "mimetype": "text/x-python",
   "name": "python",
   "nbconvert_exporter": "python",
   "pygments_lexer": "ipython3",
   "version": "3.6.4"
  }
 },
 "nbformat": 4,
 "nbformat_minor": 2
}
