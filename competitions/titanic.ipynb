{
 "cells": [
  {
   "cell_type": "markdown",
   "metadata": {},
   "source": [
    "# Titanic - Survival Prediction (Multiple Models)"
   ]
  },
  {
   "cell_type": "code",
   "execution_count": 1,
   "metadata": {},
   "outputs": [
    {
     "name": "stderr",
     "output_type": "stream",
     "text": [
      "C:\\Users\\Jagan\\Anaconda3\\lib\\site-packages\\sklearn\\cross_validation.py:41: DeprecationWarning: This module was deprecated in version 0.18 in favor of the model_selection module into which all the refactored classes and functions are moved. Also note that the interface of the new CV iterators are different from that of this module. This module will be removed in 0.20.\n",
      "  \"This module will be removed in 0.20.\", DeprecationWarning)\n"
     ]
    }
   ],
   "source": [
    "# Imports\n",
    "import pandas as pd\n",
    "import matplotlib.pyplot as plt\n",
    "import seaborn as sns\n",
    "import re\n",
    "import numpy as np\n",
    "from sklearn.utils import shuffle\n",
    "import xgboost\n",
    "\n",
    "# Figures inline and set visualization style\n",
    "%matplotlib inline\n",
    "sns.set()\n",
    "\n",
    "# Import data\n",
    "df_train = pd.read_csv('data/train.csv')\n",
    "df_test = pd.read_csv('data/test.csv')\n",
    "\n",
    "# Store target variable of training data in a safe place\n",
    "survived_train = df_train.Survived\n",
    "\n",
    "# Concatenate training and test sets\n",
    "data = pd.concat([df_train.drop(['Survived'], axis=1), df_test])\n",
    "\n",
    "# View head\n",
    "#data.head()"
   ]
  },
  {
   "cell_type": "markdown",
   "metadata": {},
   "source": [
    "Notice that 'Name' column contains strings that has 'Title' such as 'Mr', 'Master' and 'Dona'. Let's use regular expressions to extract the 'Title'."
   ]
  },
  {
   "cell_type": "code",
   "execution_count": 2,
   "metadata": {},
   "outputs": [
    {
     "data": {
      "image/png": "[encoded data removed]",
      "text/plain": [
       "<matplotlib.figure.Figure at 0x18b84346f60>"
      ]
     },
     "metadata": {},
     "output_type": "display_data"
    }
   ],
   "source": [
    "# Extract Title from Name, store in column and plot barplot\n",
    "data['Title'] = data.Name.apply(lambda x: re.search(' ([A-Z][a-z]+)\\.', x).group(1))\n",
    "sns.countplot(x='Title', data=data);\n",
    "plt.xticks(rotation=45);"
   ]
  },
  {
   "cell_type": "markdown",
   "metadata": {},
   "source": [
    "There are several titles and it makes sense to put them in fewer buckets."
   ]
  },
  {
   "cell_type": "code",
   "execution_count": 3,
   "metadata": {},
   "outputs": [
    {
     "data": {
      "image/png": "[encoded data removed]",
      "text/plain": [
       "<matplotlib.figure.Figure at 0x18b845e9390>"
      ]
     },
     "metadata": {},
     "output_type": "display_data"
    }
   ],
   "source": [
    "data['Title'] = data['Title'].replace({'Mlle':'Miss', 'Mme':'Mrs', 'Ms':'Miss'})\n",
    "data['Title'] = data['Title'].replace(['Don', 'Dona', 'Rev', 'Dr',\n",
    "                                            'Major', 'Lady', 'Sir', 'Col', 'Capt', 'Countess', 'Jonkheer'],'Special')\n",
    "sns.factorplot(x='Title', kind='count',data=data);\n",
    "plt.xticks(rotation=45);"
   ]
  },
  {
   "cell_type": "markdown",
   "metadata": {},
   "source": [
    "Check out the data again and make sure that we have a 'Title' column."
   ]
  },
  {
   "cell_type": "code",
   "execution_count": 4,
   "metadata": {
    "collapsed": true
   },
   "outputs": [],
   "source": [
    "# View head of data\n",
    "#data.tail()"
   ]
  },
  {
   "cell_type": "markdown",
   "metadata": {},
   "source": [
    "### Feature Engineering: \n",
    "There are several NaNs (missing values) in the 'Cabin' column. It is reasonable to presume that those with NaNs in the 'Cabin' column didn't have a cabin, which may have something to do with 'Survival'. So now let's create a new column that encodes this information."
   ]
  },
  {
   "cell_type": "code",
   "execution_count": 14,
   "metadata": {},
   "outputs": [
    {
     "name": "stdout",
     "output_type": "stream",
     "text": [
      "[False  True False ..., False False False]\n"
     ]
    },
    {
     "data": {
      "text/html": [
       "<div>\n",
       "<style>\n",
       "    .dataframe thead tr:only-child th {\n",
       "        text-align: right;\n",
       "    }\n",
       "\n",
       "    .dataframe thead th {\n",
       "        text-align: left;\n",
       "    }\n",
       "\n",
       "    .dataframe tbody tr th {\n",
       "        vertical-align: top;\n",
       "    }\n",
       "</style>\n",
       "<table border=\"1\" class=\"dataframe\">\n",
       "  <thead>\n",
       "    <tr style=\"text-align: right;\">\n",
       "      <th></th>\n",
       "      <th>PassengerId</th>\n",
       "      <th>Pclass</th>\n",
       "      <th>Name</th>\n",
       "      <th>Sex</th>\n",
       "      <th>Age</th>\n",
       "      <th>SibSp</th>\n",
       "      <th>Parch</th>\n",
       "      <th>Ticket</th>\n",
       "      <th>Fare</th>\n",
       "      <th>Cabin</th>\n",
       "      <th>Embarked</th>\n",
       "      <th>Title</th>\n",
       "    </tr>\n",
       "  </thead>\n",
       "  <tbody>\n",
       "    <tr>\n",
       "      <th>0</th>\n",
       "      <td>1</td>\n",
       "      <td>3</td>\n",
       "      <td>Braund, Mr. Owen Harris</td>\n",
       "      <td>male</td>\n",
       "      <td>22.0</td>\n",
       "      <td>1</td>\n",
       "      <td>0</td>\n",
       "      <td>A/5 21171</td>\n",
       "      <td>7.2500</td>\n",
       "      <td>NaN</td>\n",
       "      <td>S</td>\n",
       "      <td>Mr</td>\n",
       "    </tr>\n",
       "    <tr>\n",
       "      <th>1</th>\n",
       "      <td>2</td>\n",
       "      <td>1</td>\n",
       "      <td>Cumings, Mrs. John Bradley (Florence Briggs Th...</td>\n",
       "      <td>female</td>\n",
       "      <td>38.0</td>\n",
       "      <td>1</td>\n",
       "      <td>0</td>\n",
       "      <td>PC 17599</td>\n",
       "      <td>71.2833</td>\n",
       "      <td>C85</td>\n",
       "      <td>C</td>\n",
       "      <td>Mrs</td>\n",
       "    </tr>\n",
       "    <tr>\n",
       "      <th>2</th>\n",
       "      <td>3</td>\n",
       "      <td>3</td>\n",
       "      <td>Heikkinen, Miss. Laina</td>\n",
       "      <td>female</td>\n",
       "      <td>26.0</td>\n",
       "      <td>0</td>\n",
       "      <td>0</td>\n",
       "      <td>STON/O2. 3101282</td>\n",
       "      <td>7.9250</td>\n",
       "      <td>NaN</td>\n",
       "      <td>S</td>\n",
       "      <td>Miss</td>\n",
       "    </tr>\n",
       "    <tr>\n",
       "      <th>3</th>\n",
       "      <td>4</td>\n",
       "      <td>1</td>\n",
       "      <td>Futrelle, Mrs. Jacques Heath (Lily May Peel)</td>\n",
       "      <td>female</td>\n",
       "      <td>35.0</td>\n",
       "      <td>1</td>\n",
       "      <td>0</td>\n",
       "      <td>113803</td>\n",
       "      <td>53.1000</td>\n",
       "      <td>C123</td>\n",
       "      <td>S</td>\n",
       "      <td>Mrs</td>\n",
       "    </tr>\n",
       "    <tr>\n",
       "      <th>4</th>\n",
       "      <td>5</td>\n",
       "      <td>3</td>\n",
       "      <td>Allen, Mr. William Henry</td>\n",
       "      <td>male</td>\n",
       "      <td>35.0</td>\n",
       "      <td>0</td>\n",
       "      <td>0</td>\n",
       "      <td>373450</td>\n",
       "      <td>8.0500</td>\n",
       "      <td>NaN</td>\n",
       "      <td>S</td>\n",
       "      <td>Mr</td>\n",
       "    </tr>\n",
       "  </tbody>\n",
       "</table>\n",
       "</div>"
      ],
      "text/plain": [
       "   PassengerId  Pclass                                               Name  \\\n",
       "0            1       3                            Braund, Mr. Owen Harris   \n",
       "1            2       1  Cumings, Mrs. John Bradley (Florence Briggs Th...   \n",
       "2            3       3                             Heikkinen, Miss. Laina   \n",
       "3            4       1       Futrelle, Mrs. Jacques Heath (Lily May Peel)   \n",
       "4            5       3                           Allen, Mr. William Henry   \n",
       "\n",
       "      Sex   Age  SibSp  Parch            Ticket     Fare Cabin Embarked Title  \n",
       "0    male  22.0      1      0         A/5 21171   7.2500   NaN        S    Mr  \n",
       "1  female  38.0      1      0          PC 17599  71.2833   C85        C   Mrs  \n",
       "2  female  26.0      0      0  STON/O2. 3101282   7.9250   NaN        S  Miss  \n",
       "3  female  35.0      1      0            113803  53.1000  C123        S   Mrs  \n",
       "4    male  35.0      0      0            373450   8.0500   NaN        S    Mr  "
      ]
     },
     "execution_count": 14,
     "metadata": {},
     "output_type": "execute_result"
    }
   ],
   "source": [
    "# Did they have a Cabin?\n",
    "cabin = ~data.Cabin.isnull().values == 1\n",
    "print(cabin)\n",
    "#data['Has_Cabin'] = \n",
    "\n",
    "# View head of data\n",
    "data.head()"
   ]
  },
  {
   "cell_type": "markdown",
   "metadata": {},
   "source": [
    "Let's drop columns that contain no more useful (as of now) information, i.e. 'Cabin', 'Name', 'PassengerId' and 'Ticket'."
   ]
  },
  {
   "cell_type": "code",
   "execution_count": null,
   "metadata": {
    "collapsed": true
   },
   "outputs": [],
   "source": [
    "# Drop columns and view head\n",
    "data.drop(['Cabin', 'Name', 'PassengerId', 'Ticket'], axis=1, inplace=True)\n",
    "#data.head()"
   ]
  },
  {
   "cell_type": "markdown",
   "metadata": {},
   "source": [
    "### Dealing with missing values:"
   ]
  },
  {
   "cell_type": "markdown",
   "metadata": {},
   "source": [
    "Let's figure out if there are any missing values. If yes, then we need to do something about it."
   ]
  },
  {
   "cell_type": "code",
   "execution_count": null,
   "metadata": {},
   "outputs": [],
   "source": [
    "data.info()"
   ]
  },
  {
   "cell_type": "markdown",
   "metadata": {},
   "source": [
    "Look's like there is some missing data in 'Age', 'Fare' and 'Embarked'. Let's impute these values:"
   ]
  },
  {
   "cell_type": "code",
   "execution_count": null,
   "metadata": {},
   "outputs": [],
   "source": [
    "# Impute missing values for Age, Fare, Embarked\n",
    "data['Age'] = data.Age.fillna(data.Age.median())\n",
    "data['Fare'] = data.Fare.fillna(data.Fare.median())\n",
    "data['Embarked'] = data['Embarked'].fillna('S')\n",
    "data.info()"
   ]
  },
  {
   "cell_type": "code",
   "execution_count": null,
   "metadata": {},
   "outputs": [],
   "source": [
    "data.head()"
   ]
  },
  {
   "cell_type": "markdown",
   "metadata": {},
   "source": [
    "### Binning numerical data:"
   ]
  },
  {
   "cell_type": "markdown",
   "metadata": {},
   "source": [
    "Use the `pandas` function `qcut` to bin your numerical data."
   ]
  },
  {
   "cell_type": "code",
   "execution_count": null,
   "metadata": {
    "collapsed": true
   },
   "outputs": [],
   "source": [
    "# Binning numerical columns\n",
    "data['CatAge'] = pd.qcut(data.Age, q=10, labels=False, duplicates='drop' )\n",
    "data['CatFare']= pd.qcut(data.Fare, q=10, labels=False)\n",
    "#data.head()"
   ]
  },
  {
   "cell_type": "markdown",
   "metadata": {},
   "source": [
    "'Age' and 'Fare' columns can now be dropped."
   ]
  },
  {
   "cell_type": "code",
   "execution_count": null,
   "metadata": {
    "collapsed": true
   },
   "outputs": [],
   "source": [
    "data = data.drop(['Age', 'Fare'], axis=1)\n",
    "#data.head()"
   ]
  },
  {
   "cell_type": "markdown",
   "metadata": {},
   "source": [
    "### Combining features - Family:"
   ]
  },
  {
   "cell_type": "code",
   "execution_count": null,
   "metadata": {
    "collapsed": true
   },
   "outputs": [],
   "source": [
    "# Create column of number of Family members onboard\n",
    "data['Fam_Size'] = data.SibSp + data.Parch"
   ]
  },
  {
   "cell_type": "code",
   "execution_count": null,
   "metadata": {},
   "outputs": [],
   "source": [
    "# Drop columns\n",
    "data = data.drop(['SibSp','Parch'], axis=1)\n",
    "data.head()"
   ]
  },
  {
   "cell_type": "markdown",
   "metadata": {},
   "source": [
    "### Transforming all 'categorical' variables into 'numerical' values:"
   ]
  },
  {
   "cell_type": "code",
   "execution_count": null,
   "metadata": {},
   "outputs": [],
   "source": [
    "# Transform into binary variables\n",
    "data_dum = pd.get_dummies(data, drop_first=True)\n",
    "data_dum.head()"
   ]
  },
  {
   "cell_type": "markdown",
   "metadata": {},
   "source": [
    "### Building models: "
   ]
  },
  {
   "cell_type": "markdown",
   "metadata": {},
   "source": [
    "Now that all the necessary feature engineering has been completed, we'll begin with building models. As before, first we'll split our `data` back into training and test sets; then transform them into arrays."
   ]
  },
  {
   "cell_type": "code",
   "execution_count": null,
   "metadata": {
    "collapsed": true
   },
   "outputs": [],
   "source": [
    "from sklearn.model_selection import GridSearchCV, train_test_split, cross_validate, cross_val_predict\n",
    "from sklearn.preprocessing import StandardScaler\n",
    "from sklearn.metrics import classification_report\n",
    "from sklearn import linear_model, tree, ensemble, discriminant_analysis, svm, neighbors, neural_network"
   ]
  },
  {
   "cell_type": "code",
   "execution_count": null,
   "metadata": {},
   "outputs": [],
   "source": [
    "# Split the data into train, test and cross-val sets and transform into arrays for scikit\n",
    "train = data_dum.iloc[:891].values\n",
    "test = data_dum.iloc[891:].values\n",
    "y = survived_train.values\n",
    "\n",
    "train[:5]"
   ]
  },
  {
   "cell_type": "markdown",
   "metadata": {},
   "source": [
    "We're now going to build a suite of classifier models and train them on the feature-engineered dataset. To select the optimum  hyperparameters, we'll use a variation on test-train split called cross validation.\n",
    "\n",
    "For more on cross validation, check out: ***http://scikit-learn.org/stable/modules/cross_validation.html"
   ]
  },
  {
   "cell_type": "markdown",
   "metadata": {},
   "source": [
    "#### Helper Functions:"
   ]
  },
  {
   "cell_type": "code",
   "execution_count": null,
   "metadata": {
    "collapsed": true
   },
   "outputs": [],
   "source": [
    "def scale(train,test):\n",
    "    # Steps : \n",
    "    # 1) Fit only on training data - don't cheat\n",
    "    # 2) Apply transformation on both training and test data\n",
    "    scaler = StandardScaler(); scaler.fit(train)  \n",
    "    train_scaled = scaler.transform(train)\n",
    "    test_scaled = scaler.transform(test)\n",
    "    return train_scaled, test_scaled"
   ]
  },
  {
   "cell_type": "markdown",
   "metadata": {},
   "source": [
    "#### Global Tuning Parameters:"
   ]
  },
  {
   "cell_type": "code",
   "execution_count": null,
   "metadata": {
    "collapsed": true
   },
   "outputs": [],
   "source": [
    "loss = ['hinge', 'log', 'squared_hinge', 'perceptron']\n",
    "penalty = ['l1', 'l2']\n",
    "alpha = 10.0**-np.arange(1,7)\n",
    "C = 10.0**np.arange(-4,4,0.1)\n",
    "estimators = np.arange(10,21)\n",
    "dep = np.arange(2,15)\n",
    "solver = ['lsqr','eigen']\n",
    "reg_param = np.arange(0.0,1.0,.01)\n",
    "kernel = ['linear', 'poly', 'rbf', 'sigmoid']\n",
    "degree = np.arange(2,6)"
   ]
  },
  {
   "cell_type": "markdown",
   "metadata": {},
   "source": [
    "### Linear Methods:"
   ]
  },
  {
   "cell_type": "markdown",
   "metadata": {},
   "source": [
    "#### Logistic Regression:"
   ]
  },
  {
   "cell_type": "code",
   "execution_count": null,
   "metadata": {
    "collapsed": true
   },
   "outputs": [],
   "source": [
    "def Logit_Regression(train,test,y):\n",
    "    # Fit the model\n",
    "    clf = linear_model.LogisticRegressionCV(cv=5)\n",
    "    clf.fit(train, y)\n",
    "    \n",
    "    # Print the tuned parameter and score\n",
    "    print(\"Tuned Parameter: {}\".format({'C' :clf.C_ }))\n",
    "    print(\"Best score is {}\".format(np.median(clf.scores_[1])))\n",
    "    \n",
    "    # Save the results\n",
    "    y_pred_log_reg = clf.predict(test)\n",
    "    df_test['Survived'] = y_pred_log_reg\n",
    "    df_test[['PassengerId', 'Survived']].to_csv('data/predictions/logistic_regression.csv', index=False)\n",
    "    return y_pred_log_reg"
   ]
  },
  {
   "cell_type": "code",
   "execution_count": null,
   "metadata": {
    "collapsed": true
   },
   "outputs": [],
   "source": [
    "y_pred_log = Logit_Regression(train,test,y)"
   ]
  },
  {
   "cell_type": "markdown",
   "metadata": {},
   "source": [
    "#### SGD Classification:"
   ]
  },
  {
   "cell_type": "code",
   "execution_count": null,
   "metadata": {
    "collapsed": true
   },
   "outputs": [],
   "source": [
    "def SGD_Classification(train,test,y):\n",
    "    # Scale the data\n",
    "    train_scaled, test_scaled = scale(train, test)\n",
    "        \n",
    "    # Fit the model\n",
    "    tuning_params = {'loss': loss, 'alpha': alpha}\n",
    "    clf = linear_model.SGDClassifier(max_iter=5,tol=None,shuffle=True)\n",
    "    clf_cv = GridSearchCV(clf, param_grid=tuning_params, n_jobs=-1, cv=5)\n",
    "    clf_cv.fit(train_scaled, y)\n",
    "    \n",
    "    # Print the tuned parameter and score\n",
    "    print(\"Tuned Parameters: {}\".format(clf_cv.best_params_))\n",
    "    print(\"Best score is {}\".format(clf_cv.best_score_))\n",
    "    # Save the results\n",
    "    y_pred_sgd = clf_cv.predict(test_scaled)\n",
    "    df_test['Survived'] = y_pred_sgd\n",
    "    df_test[['PassengerId', 'Survived']].to_csv('data/predictions/stochastic_gradient_descent.csv', index=False)\n",
    "    return y_pred_sgd"
   ]
  },
  {
   "cell_type": "code",
   "execution_count": null,
   "metadata": {
    "collapsed": true
   },
   "outputs": [],
   "source": [
    "y_pred_sgd = SGD_Classification(train,test,y)"
   ]
  },
  {
   "cell_type": "markdown",
   "metadata": {},
   "source": [
    "#### Perceptron:"
   ]
  },
  {
   "cell_type": "code",
   "execution_count": null,
   "metadata": {
    "collapsed": true
   },
   "outputs": [],
   "source": [
    "def Perceptron_Classification(train,test,y):\n",
    "    # Fit the model\n",
    "    tuning_params = {'penalty': penalty, 'alpha': alpha}\n",
    "    clf = linear_model.Perceptron(max_iter=10,tol=None)\n",
    "    clf_cv = GridSearchCV(clf, param_grid=tuning_params, n_jobs=-1, cv=5)\n",
    "    clf_cv.fit(train, y)\n",
    "    \n",
    "    # Print the tuned parameter and score\n",
    "    print(\"Tuned Parameters: {}\".format(clf_cv.best_params_))\n",
    "    print(\"Best score is {}\".format(clf_cv.best_score_))\n",
    "    \n",
    "    # Save the results\n",
    "    y_pred_per = clf_cv.predict(test)\n",
    "    df_test['Survived'] = y_pred_per\n",
    "    df_test[['PassengerId', 'Survived']].to_csv('data/predictions/perceptron.csv', index=False)\n",
    "    return y_pred_per"
   ]
  },
  {
   "cell_type": "code",
   "execution_count": null,
   "metadata": {
    "collapsed": true
   },
   "outputs": [],
   "source": [
    "y_pred_per = Perceptron_Classification(train,test,y)"
   ]
  },
  {
   "cell_type": "markdown",
   "metadata": {},
   "source": [
    "### Discriminant Analysis:"
   ]
  },
  {
   "cell_type": "markdown",
   "metadata": {
    "collapsed": true
   },
   "source": [
    "#### LDA:"
   ]
  },
  {
   "cell_type": "code",
   "execution_count": null,
   "metadata": {
    "collapsed": true
   },
   "outputs": [],
   "source": [
    "def LDA_Classification(train,test,y):\n",
    "    # Fit the model\n",
    "    tuning_params = {'solver' : solver}\n",
    "    clf = discriminant_analysis.LinearDiscriminantAnalysis(shrinkage='auto')\n",
    "    clf_cv = GridSearchCV(clf, param_grid=tuning_params, n_jobs=-1, cv=5)\n",
    "    clf_cv.fit(train, y)\n",
    "    \n",
    "    # Print the tuned parameter and score\n",
    "    print(\"Tuned Parameters: {}\".format(clf_cv.best_params_))\n",
    "    print(\"Best score is {}\".format(clf_cv.best_score_))\n",
    "    \n",
    "    # Save the results\n",
    "    y_pred_lda = clf_cv.predict(test)\n",
    "    df_test['Survived'] = y_pred_lda\n",
    "    df_test[['PassengerId', 'Survived']].to_csv('data/predictions/lda.csv', index=False)\n",
    "    return y_pred_lda"
   ]
  },
  {
   "cell_type": "code",
   "execution_count": null,
   "metadata": {
    "collapsed": true
   },
   "outputs": [],
   "source": [
    "y_pred_lda = LDA_Classification(train,test,y)"
   ]
  },
  {
   "cell_type": "markdown",
   "metadata": {},
   "source": [
    "#### QDA:"
   ]
  },
  {
   "cell_type": "code",
   "execution_count": null,
   "metadata": {
    "collapsed": true
   },
   "outputs": [],
   "source": [
    "def QDA_Classification(train,test,y):\n",
    "    # Fit the model\n",
    "    tuning_params = {'reg_param' : reg_param }\n",
    "    clf = discriminant_analysis.QuadraticDiscriminantAnalysis()\n",
    "    clf_cv = GridSearchCV(clf, param_grid=tuning_params, n_jobs=-1, cv=5)\n",
    "    clf_cv.fit(train, y)\n",
    "    \n",
    "    # Print the tuned parameter and score\n",
    "    print(\"Tuned Parameters: {}\".format(clf_cv.best_params_))\n",
    "    print(\"Best score is {}\".format(clf_cv.best_score_))\n",
    "    \n",
    "     # Save the results\n",
    "    y_pred_qda = clf_cv.predict(test)\n",
    "    df_test['Survived'] = y_pred_qda\n",
    "    df_test[['PassengerId', 'Survived']].to_csv('data/predictions/qda.csv', index=False)\n",
    "    return y_pred_qda"
   ]
  },
  {
   "cell_type": "code",
   "execution_count": null,
   "metadata": {
    "collapsed": true
   },
   "outputs": [],
   "source": [
    "y_pred_qda = QDA_Classification(train,test,y)"
   ]
  },
  {
   "cell_type": "markdown",
   "metadata": {},
   "source": [
    "### Support Vector Machines:"
   ]
  },
  {
   "cell_type": "code",
   "execution_count": null,
   "metadata": {
    "collapsed": true
   },
   "outputs": [],
   "source": [
    "def SVM_Classification(train,test,y):\n",
    "    # Scale the data\n",
    "    train_scaled, test_scaled = scale(train, test)\n",
    "    \n",
    "    # Fit the model\n",
    "    tuning_params = {'kernel': kernel, 'degree' : degree}\n",
    "    clf = svm.SVC(C=20,class_weight='balanced')\n",
    "    clf_cv = GridSearchCV(clf, param_grid=tuning_params, n_jobs=-1, cv=5)\n",
    "    clf_cv.fit(train_scaled, y)\n",
    "    \n",
    "    # Print the tuned parameter and score\n",
    "    print(\"Tuned Parameters: {}\".format(clf_cv.best_params_))\n",
    "    print(\"Best score is {}\".format(clf_cv.best_score_))\n",
    "    \n",
    "    # Save the results\n",
    "    y_pred_svm = clf_cv.predict(test_scaled)\n",
    "    df_test['Survived'] =  y_pred_svm\n",
    "    df_test[['PassengerId', 'Survived']].to_csv('data/predictions/svm.csv', index=False)\n",
    "    return y_pred_svm"
   ]
  },
  {
   "cell_type": "code",
   "execution_count": null,
   "metadata": {
    "collapsed": true
   },
   "outputs": [],
   "source": [
    "y_pred_svm = SVM_Classification(train,test,y)"
   ]
  },
  {
   "cell_type": "markdown",
   "metadata": {},
   "source": [
    "### Decision Trees:"
   ]
  },
  {
   "cell_type": "code",
   "execution_count": null,
   "metadata": {
    "collapsed": true
   },
   "outputs": [],
   "source": [
    "def Decision_Trees_Classification(train,test,y):\n",
    "    # Fit the model\n",
    "    tuning_params = {'max_depth' : dep}\n",
    "    clf = tree.DecisionTreeClassifier(min_samples_split=4,min_samples_leaf=5,class_weight='balanced')\n",
    "    clf_cv = GridSearchCV(clf, param_grid=tuning_params, n_jobs=-1, cv=5)\n",
    "    clf_cv.fit(train, y)\n",
    "    \n",
    "    # Print the tuned parameter and score\n",
    "    print(\"Tuned Parameters: {}\".format(clf_cv.best_params_))\n",
    "    print(\"Best score is {}\".format(clf_cv.best_score_))\n",
    "    \n",
    "    # Save the results\n",
    "    y_pred_dt = clf_cv.predict(test)\n",
    "    df_test['Survived'] = y_pred_dt\n",
    "    df_test[['PassengerId', 'Survived']].to_csv('data/predictions/decision_tree.csv', index=False)\n",
    "    return y_pred_dt"
   ]
  },
  {
   "cell_type": "code",
   "execution_count": null,
   "metadata": {
    "collapsed": true
   },
   "outputs": [],
   "source": [
    "y_pred_dt = Decision_Trees_Classification(train,test,y)"
   ]
  },
  {
   "cell_type": "markdown",
   "metadata": {},
   "source": [
    "### Ensemble Methods:"
   ]
  },
  {
   "cell_type": "markdown",
   "metadata": {},
   "source": [
    "#### Bagging Meta-estimator:"
   ]
  },
  {
   "cell_type": "code",
   "execution_count": null,
   "metadata": {
    "collapsed": true
   },
   "outputs": [],
   "source": [
    "def Bagging_Meta_Classification(train,test,y):\n",
    "    # Fit the model\n",
    "    base_estimator = [linear_model.LogisticRegression(C=167),\n",
    "                      linear_model.SGDClassifier(loss='log',alpha=0.01,max_iter=5,tol=None,shuffle=True),\n",
    "                      discriminant_analysis.LinearDiscriminantAnalysis(solver='lsqr',shrinkage='auto'),\n",
    "                      discriminant_analysis.QuadraticDiscriminantAnalysis(reg_param=0.03),\n",
    "                      svm.SVC(C=20,kernel='poly',degree=3,class_weight='balanced')] # This might take some time\n",
    "    tuning_params = {'n_estimators' : estimators}\n",
    "    clf = ensemble.BaggingClassifier(base_estimator[4])\n",
    "    clf_cv = GridSearchCV(clf, param_grid=tuning_params, n_jobs=-1, cv=5)\n",
    "    clf_cv.fit(train, y)\n",
    "    \n",
    "    # Print the tuned parameter and score\n",
    "    print(\"Tuned Parameters: {}\".format(clf_cv.best_params_))\n",
    "    print(\"Best score is {}\".format(clf_cv.best_score_))\n",
    "    \n",
    "    # Save the results\n",
    "    y_pred_bm = clf_cv.predict(test)\n",
    "    df_test['Survived'] = y_pred_bm\n",
    "    df_test[['PassengerId', 'Survived']].to_csv('data/predictions/bagging_meta_estimator.csv', index=False)\n",
    "    return y_pred_bm"
   ]
  },
  {
   "cell_type": "code",
   "execution_count": null,
   "metadata": {
    "collapsed": true
   },
   "outputs": [],
   "source": [
    "y_pred_bm = Bagging_Meta_Classification(train,test,y)"
   ]
  },
  {
   "cell_type": "markdown",
   "metadata": {},
   "source": [
    "#### Random Forests:"
   ]
  },
  {
   "cell_type": "code",
   "execution_count": null,
   "metadata": {
    "collapsed": true
   },
   "outputs": [],
   "source": [
    "def Random_Trees_Classification(train,test,y):\n",
    "    # Fit the model\n",
    "    tuning_params = {'n_estimators' : estimators, 'max_depth' : dep}\n",
    "    clf = ensemble.RandomForestClassifier(class_weight='balanced')\n",
    "    clf_cv = GridSearchCV(clf, param_grid=tuning_params, n_jobs=-1, cv=5)\n",
    "    clf_cv.fit(train, y)\n",
    "    \n",
    "    # Print the tuned parameter and score\n",
    "    print(\"Tuned Parameters: {}\".format(clf_cv.best_params_))\n",
    "    print(\"Best score is {}\".format(clf_cv.best_score_))\n",
    "    \n",
    "    # Save the results\n",
    "    y_pred_rf = clf_cv.predict(test)\n",
    "    df_test['Survived'] = y_pred_rf\n",
    "    df_test[['PassengerId', 'Survived']].to_csv('data/predictions/random_forest.csv', index=False)\n",
    "    return y_pred_rf"
   ]
  },
  {
   "cell_type": "code",
   "execution_count": null,
   "metadata": {
    "collapsed": true
   },
   "outputs": [],
   "source": [
    "y_pred_rf = Random_Trees_Classification(train,test,y)"
   ]
  },
  {
   "cell_type": "markdown",
   "metadata": {
    "collapsed": true
   },
   "source": [
    "#### Extremely Randomized Trees:"
   ]
  },
  {
   "cell_type": "code",
   "execution_count": null,
   "metadata": {
    "collapsed": true
   },
   "outputs": [],
   "source": [
    "def Extremely_Randomized_Trees_Classification(train,test,y):\n",
    "    # Fit the model\n",
    "    tuning_params = {'n_estimators' : estimators, 'max_depth' : dep}\n",
    "    clf = ensemble.ExtraTreesClassifier(class_weight='balanced')\n",
    "    clf_cv = GridSearchCV(clf, param_grid=tuning_params, n_jobs=-1, cv=5)\n",
    "    clf_cv.fit(train, y)\n",
    "    \n",
    "    # Print the tuned parameter and score\n",
    "    print(\"Tuned Parameters: {}\".format(clf_cv.best_params_))\n",
    "    print(\"Best score is {}\".format(clf_cv.best_score_))\n",
    "    \n",
    "    # Save the results\n",
    "    y_pred_ert = clf_cv.predict(test)\n",
    "    df_test['Survived'] = y_pred_ert\n",
    "    df_test[['PassengerId', 'Survived']].to_csv('data/predictions/extremely_randomized_trees.csv', index=False)\n",
    "    return y_pred_ert"
   ]
  },
  {
   "cell_type": "code",
   "execution_count": null,
   "metadata": {
    "collapsed": true
   },
   "outputs": [],
   "source": [
    "y_pred_ert = Extremely_Randomized_Trees_Classification(train,test,y)"
   ]
  },
  {
   "cell_type": "markdown",
   "metadata": {},
   "source": [
    "#### Adaboost:"
   ]
  },
  {
   "cell_type": "code",
   "execution_count": null,
   "metadata": {
    "collapsed": true
   },
   "outputs": [],
   "source": [
    "def Adaboost_Classification(train,test,y):\n",
    "    # Fit the model\n",
    "    base_estimator = [linear_model.LogisticRegression(C=167),\n",
    "                      svm.SVC(C=20,kernel='poly',degree=3,class_weight='balanced'),\n",
    "                      tree.DecisionTreeClassifier(max_depth=5,min_samples_split=4,min_samples_leaf=5,class_weight='balanced')]\n",
    "    learning_rate = 10.0**np.arange(-3,0,.5)\n",
    "    tuning_params = {'base_estimator' : base_estimator, 'learning_rate' : learning_rate}\n",
    "    clf = ensemble.AdaBoostClassifier(n_estimators=100,algorithm='SAMME')\n",
    "    clf_cv = GridSearchCV(clf, param_grid=tuning_params, n_jobs=-1, cv=5)\n",
    "    clf_cv.fit(train, y)\n",
    "    \n",
    "    # Print the tuned parameter and score\n",
    "    print(\"Tuned Parameters: {}\".format(clf_cv.best_params_))\n",
    "    print(\"Best score is {}\".format(clf_cv.best_score_))\n",
    "    \n",
    "    # Save the results\n",
    "    y_pred_ada = clf_cv.predict(test)\n",
    "    df_test['Survived'] = y_pred_ada\n",
    "    df_test[['PassengerId', 'Survived']].to_csv('data/predictions/ada_boost.csv', index=False)\n",
    "    return y_pred_ada"
   ]
  },
  {
   "cell_type": "code",
   "execution_count": null,
   "metadata": {
    "collapsed": true
   },
   "outputs": [],
   "source": [
    "y_pred_ada = Adaboost_Classification(train,test,y)"
   ]
  },
  {
   "cell_type": "markdown",
   "metadata": {},
   "source": [
    "#### Gradient Tree Boosting:"
   ]
  },
  {
   "cell_type": "code",
   "execution_count": null,
   "metadata": {
    "collapsed": true
   },
   "outputs": [],
   "source": [
    "def GTB_Classification(train,test,y):\n",
    "    # Fit the model\n",
    "    learning_rate = 10.0**np.arange(-3,0,.5)\n",
    "    tuning_params = {'learning_rate' : learning_rate}\n",
    "    clf = ensemble.GradientBoostingClassifier(n_estimators=200)\n",
    "    clf_cv = GridSearchCV(clf, param_grid=tuning_params, n_jobs=-1, cv=5)\n",
    "    clf_cv.fit(train, y)\n",
    "    \n",
    "    # Print the tuned parameter and score\n",
    "    print(\"Tuned Parameters: {}\".format(clf_cv.best_params_))\n",
    "    print(\"Best score is {}\".format(clf_cv.best_score_))\n",
    "    \n",
    "    # Save the results\n",
    "    y_pred_gtb = clf_cv.predict(test)\n",
    "    df_test['Survived'] = y_pred_gtb\n",
    "    df_test[['PassengerId', 'Survived']].to_csv('data/predictions/gtb.csv', index=False)\n",
    "    return y_pred_gtb"
   ]
  },
  {
   "cell_type": "code",
   "execution_count": null,
   "metadata": {
    "collapsed": true
   },
   "outputs": [],
   "source": [
    "y_pred_gtb = GTB_Classification(train,test,y)"
   ]
  },
  {
   "cell_type": "markdown",
   "metadata": {},
   "source": [
    "#### Voting Classifier:"
   ]
  },
  {
   "cell_type": "code",
   "execution_count": null,
   "metadata": {
    "collapsed": true
   },
   "outputs": [],
   "source": [
    "def Voting_Classification(train,test,y):\n",
    "    # Fit the model\n",
    "    list_of_estimators = [('log', linear_model.LogisticRegression(C=167)),\n",
    "                      ('sgd', linear_model.SGDClassifier(loss='log',alpha=0.01,max_iter=5,tol=None,shuffle=True)),\n",
    "                      ('lda', discriminant_analysis.LinearDiscriminantAnalysis(solver='lsqr',shrinkage='auto')),\n",
    "                      ('qda', discriminant_analysis.QuadraticDiscriminantAnalysis(reg_param=0.03)),\n",
    "                      ('svm', svm.SVC(C=20,kernel='poly',degree=3,probability=True,class_weight='balanced')),\n",
    "                      ('rf',  ensemble.RandomForestClassifier(n_estimators=15,max_depth=6,class_weight='balanced')),\n",
    "                      ('gtb', ensemble.GradientBoostingClassifier(n_estimators=200,learning_rate=0.01))]\n",
    "    voting = ['hard','soft']\n",
    "    \n",
    "    tuning_params = {'voting' : voting}\n",
    "    clf = ensemble.VotingClassifier(estimators=list_of_estimators)\n",
    "    clf_cv = GridSearchCV(clf, param_grid=tuning_params, n_jobs=-1, cv=5)\n",
    "    clf_cv.fit(train, y)\n",
    "    \n",
    "    # Print the tuned parameter and score\n",
    "    print(\"Tuned Parameters: {}\".format(clf_cv.best_params_))\n",
    "    print(\"Best score is {}\".format(clf_cv.best_score_))\n",
    "    \n",
    "    # Save the results\n",
    "    y_pred_vc = clf_cv.predict(test)\n",
    "    df_test['Survived'] = y_pred_vc\n",
    "    df_test[['PassengerId', 'Survived']].to_csv('data/predictions/vc.csv', index=False)\n",
    "    return y_pred_vc"
   ]
  },
  {
   "cell_type": "code",
   "execution_count": null,
   "metadata": {
    "collapsed": true
   },
   "outputs": [],
   "source": [
    "y_pred_vc = Voting_Classification(train,test,y)"
   ]
  },
  {
   "cell_type": "markdown",
   "metadata": {},
   "source": [
    "### Neural Networks:"
   ]
  },
  {
   "cell_type": "code",
   "execution_count": null,
   "metadata": {
    "collapsed": true
   },
   "outputs": [],
   "source": [
    "def NN_Classification(train,test,y):\n",
    "     # Scale the data\n",
    "    train_scaled, test_scaled = scale(train, test)\n",
    "    \n",
    "    # Fit the model\n",
    "    tuning_params = {'alpha' : 10.0**np.arange(-7,0,.01)}\n",
    "    \n",
    "    clf = neural_network.MLPClassifier(solver='lbfgs',hidden_layer_sizes=(20,40,10,5),learning_rate='adaptive', random_state=7)\n",
    "    clf_cv = GridSearchCV(clf, param_grid=tuning_params, n_jobs=-1, cv=2)\n",
    "    clf_cv.fit(train_scaled, y)\n",
    "    \n",
    "    # Print the tuned parameter and score\n",
    "    print(\"Tuned Parameters: {}\".format(clf_cv.best_params_))\n",
    "    print(\"Best score is {}\".format(clf_cv.best_score_))\n",
    "    \n",
    "    # Save the results\n",
    "    y_pred_nn = clf_cv.predict(test_scaled)\n",
    "    df_test['Survived'] = y_pred_nn\n",
    "    df_test[['PassengerId', 'Survived']].to_csv('data/predictions/nn.csv', index=False)\n",
    "    return y_pred_nn"
   ]
  },
  {
   "cell_type": "code",
   "execution_count": null,
   "metadata": {
    "collapsed": true
   },
   "outputs": [],
   "source": [
    "y_pred_nn = NN_Classification(train,test,y)"
   ]
  }
 ],
 "metadata": {
  "kernelspec": {
   "display_name": "Python 3",
   "language": "python",
   "name": "python3"
  },
  "language_info": {
   "codemirror_mode": {
    "name": "ipython",
    "version": 3
   },
   "file_extension": ".py",
   "mimetype": "text/x-python",
   "name": "python",
   "nbconvert_exporter": "python",
   "pygments_lexer": "ipython3",
   "version": "3.6.4"
  }
 },
 "nbformat": 4,
 "nbformat_minor": 2
}
